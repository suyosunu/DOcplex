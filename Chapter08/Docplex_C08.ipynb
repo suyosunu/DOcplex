{
 "cells": [
  {
   "cell_type": "markdown",
   "metadata": {},
   "source": [
    "# DOcplex için CPLEX Kısıtlamalarının Kaldırılması #\n",
    "Bu eğitimde, IBM CPLEX'in tam sürümüne ya da akademik sürüme sahip olmanıza rağmen DOcplex kullanırken yaşayacağınız kısıtlı kullanım uyarısından nasıl kurutlacağınız anlatılacaktır. \n",
    "\n",
    "Bildiğiniz üzere IBM CPLEX'in 3 sürümü bulunmaktadır.\n",
    "- __Community Edition:__ İnterneten ücretsiz indirebileceğiniz 1000 değişken ve 1000 kısıta izin veren sürümdür\n",
    "- __Academic Edition:__ Üniversite öğrencileri ve akademik kadro için ücretsiz sunulan ve hiç bir kısıtı bulunmayan versiyondur.\n",
    "- __Commercial Edition:__ Kurumsal firmalar için hazırlanmış ve bir IBM satış temsilcisi ile görüşüp satın alabileceğiniz versiyondur. Kendi içinde Developer ve Deployment olmak üzere iki lisanslama türü bulunmaktadır. PVU adı verilen farklı bir ücretlendirme mekanziması bulunmaktadır. Değişken ve kısıtlarla ilgili bir limit bulunmamaktadır.\n",
    "\n",
    "Eğer bilgisayarınızda Akademik veya Kurumsal versiyon var ise ve siz bu versiyonlar üzerinden DOcplex çalıştırmak istiyorsanız, __cplex__ ve __docplex__ kütüphanelerini kurduktan sonra bazı işlemler yapmanız gerekmektedir. \n",
    "\n",
    "Bu notebook hazırlanırken, <a href=\"http://ibmdecisionoptimization.github.io/docplex-doc/mp/getting_started.html\">DOcplex sayfası</a> ve <a href=\"https://stackoverflow.com/questions/68543820/upgrade-cplex-studio-to-academic-version\">Stackoverflow sorusundan</a> faydalanılmıştır. "
   ]
  },
  {
   "cell_type": "markdown",
   "metadata": {},
   "source": [
    "Bilgisayarınızda Python kurulu olduğu varsayılmaktadır. Bilgisayarınızda hangi python sürümünün kurulu olduğunu daha doğrusu mevcut envoirementinizin hangi sürüm olduğunu şu kod ile öğrenebilirsiniz."
   ]
  },
  {
   "cell_type": "code",
   "execution_count": 7,
   "metadata": {
    "scrolled": true
   },
   "outputs": [
    {
     "name": "stdout",
     "output_type": "stream",
     "text": [
      "3.7.3\n"
     ]
    }
   ],
   "source": [
    "from platform import python_version\n",
    "print(python_version())"
   ]
  },
  {
   "cell_type": "markdown",
   "metadata": {},
   "source": [
    "Ve sürümünüzün hangi klasördeki uygulamadan çalıştığını."
   ]
  },
  {
   "cell_type": "code",
   "execution_count": 8,
   "metadata": {},
   "outputs": [
    {
     "data": {
      "text/plain": [
       "'C:\\\\Users\\\\suyun\\\\Anaconda3\\\\python.exe'"
      ]
     },
     "execution_count": 8,
     "metadata": {},
     "output_type": "execute_result"
    }
   ],
   "source": [
    "import sys\n",
    "sys.executable"
   ]
  },
  {
   "cell_type": "markdown",
   "metadata": {},
   "source": [
    "DOcplex ve cplex kütüphaneleri kurulu ise, bu kütüphanelerin de hangi sürümünün kurulu olduğunu aşağıdaki kodlarla öğrenebilirsiniz."
   ]
  },
  {
   "cell_type": "code",
   "execution_count": 9,
   "metadata": {},
   "outputs": [
    {
     "name": "stdout",
     "output_type": "stream",
     "text": [
      "20.1.0.0\n"
     ]
    }
   ],
   "source": [
    "import cplex\n",
    "print(cplex.__version__)"
   ]
  },
  {
   "cell_type": "code",
   "execution_count": 10,
   "metadata": {},
   "outputs": [
    {
     "name": "stdout",
     "output_type": "stream",
     "text": [
      "2.23.222\n"
     ]
    }
   ],
   "source": [
    "import docplex\n",
    "print(docplex.__version__)"
   ]
  },
  {
   "cell_type": "markdown",
   "metadata": {},
   "source": [
    "Peki şu anda kurulu olan cplex versiyonumuzun kısıtlı kullanım olup olmadığını nasıl anlarız. Eğer siz sadece __pip install cplex__ olarak kurduysanız büyük ihtimale kurduğunuz kütüphane bilgisayarınızda cplex olduğunu bakmaksızın ücretsiz versiyonu kurmuştur. Bunu kontrol etmenin en kolay yolu şudur. Aşağıdaki kod çalıştırmak:"
   ]
  },
  {
   "cell_type": "code",
   "execution_count": 12,
   "metadata": {},
   "outputs": [
    {
     "name": "stdout",
     "output_type": "stream",
     "text": [
      "* system is: Windows 64bit\n",
      "* Python version 3.7.3, located at: C:\\Users\\suyun\\Anaconda3\\python.exe\n",
      "* docplex is present, version is 2.23.222\n",
      "* CPLEX library is present, version is 20.1.0.0, located at: C:\\Users\\suyun\\Anaconda3\\lib\\site-packages\n",
      "* pandas is present, version is 0.24.2\n",
      "\n",
      "* diagnostics: 1\n",
      "  -- Your cplex version is '20.1.0.0', a newer version '22.1' is available\n"
     ]
    }
   ],
   "source": [
    "!python -m docplex.mp.check_list"
   ]
  },
  {
   "cell_type": "markdown",
   "metadata": {},
   "source": [
    "Eğer bilgisayarınızda ücretsiz sürüm yani community edition yüklü ise alacağınız mesaj şu şekilde olacaktır.\n",
    "<code>\n",
    "   * system is: Windows 64bit\n",
    "   * Python version 3.7.3, located at: C:\\Users\\suyun\\Anaconda3\\python.exe\n",
    "   * docplex is present, version is 2.23.222\n",
    "   * CPLEX library is present, version is 22.1.0.0, located at: C:\\Users\\suyun\\Anaconda3\\lib\\site-packages\n",
    "   * pandas is present, version is 0.24.2\n",
    "   * Your cplex version 22.1.0.0 is the latest available\n",
    "   * ! Cplex promotional version, limited to 1000 variables, 1000 constraints \n",
    "</code>"
   ]
  },
  {
   "cell_type": "markdown",
   "metadata": {},
   "source": [
    "Benim bilgisayarımda CPLEX kurumsal ya da Akademik versiyon olmasına rağmen bu mesjaı neden alıyorum. Bunun açıklaması için IBM'in sayfasında yer alan açıklama şu şekilde:\n",
    "\n",
    "Starting from docplex 2.16, docplex will use by default the CPLEX and CPO engines by searching your system, in the following order:\n",
    "\n",
    "- if cplex was installed using pip install cplex, docplex will use the engines installed this way.\n",
    "- docplex looks for the latest version of CPLEX Optimization Studio installed on your machine, by inspecting the CPLEX_STUDIO_DIRXXX variables, where XXX is the version of Cplex Optimization Studio\n",
    "\n",
    "You can override this behaviour by changing your solver configuration.\n",
    "\n",
    "CPLEX kütüphanesini yüklerken, sizin bilgisayarınızdaki sürümünüzü kontrol ediyor. Eğer yüklenen kütüphanenin sürümü ile sizin cplex sürümünüz uyuşmazsa, kütüphane otomatik olarak kendi cplex engine kuruyor. Biraz saçma ama ben bu şekilde anladım ve buna göre çözüme gittim."
   ]
  },
  {
   "cell_type": "markdown",
   "metadata": {},
   "source": [
    "Bu durumda yapmanız gereken çok basit bir düzenleme var. Yapmanız gerekenleri madde madde aşağıda sıraladım.\n",
    "\n",
    "- Öncelikle bilgisayarınızda yüklü olan IBM CPLEX sürümünün lokasyonunu bulmalısınız.\n",
    "- Örnek: C:\\Program Files\\IBM\\ILOG\\CPLEX_Studio201\n",
    "- Ardında bu klasörde __cplex__ klasörüne ardından __python__ klasörüne ve son olarak da python sürümünüzün klasörüne ve karşınıza çıkan klasöre girmeniz gerekiyor.\n",
    "- Örnek: C:\\Program Files\\IBM\\ILOG\\CPLEX_Studio201\\cplex\\python\\3.7\\x64_win64\n",
    "- Şimdi bu klasördeki __cplex__ klasörü bizim aslında yüklememiz gereken kütüphane verilerini içeriyor. \n",
    "- Bu klasörün içindeki tüm dosyaları kopyalıyoruz. Bu cepte dursun.\n",
    "- Şimdi, Pythonda yüklü olan kütüphanelerin klasörüne gideceğiz. Ben bu eğitimi Anaconda dağıtımı üzerinden herhangi bir virtual envoirement kullanmadan hazırladım. Bu sebeple benim dosya yolum şu şekilde.\n",
    "- Örnek: C:\\Users\\suyun\\Anaconda3\\Lib\\site-packages\n",
    "- Yukarıda yazdığımız python versiyonunuza ve konumuna göre kütüphanelerin nerede olduğunu bulabilirsiniz.\n",
    "- Bir sonraki aşamada bu klasördeki __cplex__ kütüphanesini buluyoruz.\n",
    "- Örnek: C:\\Users\\suyun\\Anaconda3\\Lib\\site-packages\\cplex\n",
    "- Son olarak kopyaladığımız dosyaları bu klasöre yapıştırıyoruz. Bilgisayarın bize sorduğu, dosyaları değiştireyim mi sorusuna evet dedikten sonra işlem bitiyor.\n"
   ]
  },
  {
   "cell_type": "markdown",
   "metadata": {},
   "source": [
    "Şimdi tekrar __!python -m docplex.mp.check_list__ komutunu çağırdığımız zaman uyarı vermeyecektir ve kurulu sürümünüz üzerinden kısıtsız kullanıma başlayabilirsiniz. \n",
    "\n",
    "Bir sonraki eğitimde görüşmek üzere.\n",
    "\n",
    "__Sabri Suyunu__"
   ]
  }
 ],
 "metadata": {
  "kernelspec": {
   "display_name": "Python 3",
   "language": "python",
   "name": "python3"
  },
  "language_info": {
   "codemirror_mode": {
    "name": "ipython",
    "version": 3
   },
   "file_extension": ".py",
   "mimetype": "text/x-python",
   "name": "python",
   "nbconvert_exporter": "python",
   "pygments_lexer": "ipython3",
   "version": "3.7.3"
  }
 },
 "nbformat": 4,
 "nbformat_minor": 2
}
