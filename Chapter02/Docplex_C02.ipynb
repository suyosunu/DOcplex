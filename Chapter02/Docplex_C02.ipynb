{
 "cells": [
  {
   "cell_type": "markdown",
   "metadata": {},
   "source": [
    "# DOcplex ile Lineer Programlama Problemi Çözümü #\n",
    "\n",
    "__Bu eğitimde basit bir problemi Docplex kullanarak çözmeye çalışacağız.__ <br>\n",
    "__Eğer bilgisayarımızda docplex için gerekli kütüphaneler yok ise onları nasıl yükleyeceğimizi anlatacağız.__ <br>\n",
    "__Önce problemimize bakalım sonrasında çözüm için adım adım ilerleyelim__ <br><br>\n"
   ]
  },
  {
   "cell_type": "markdown",
   "metadata": {},
   "source": [
    "### Problem ###\n",
    "\n",
    "Bir makarna fabrikası sadece 2 çeşit makarna üretmektedir. A ve B makarnaları. Her iki makarna çeşidinin üretimi için Süt ve Una ihtiyaç duyulmaktadır. Aşağıda A ve B makarnaları için gerekli olan miktarlar verilmiştir. <br>\n",
    "\n",
    "    Her bir A makarnası için 1 ünite Süt ve 3 ünite Un\n",
    "    Her bir B makarnası için 1 ünite Süt ve 2 ünite Un\n",
    "    \n",
    "Şirketimizin stoğunda 5 ünite Süt ve 12 ünite Un bulunmaktadır. Her bir satış sonrasında elde edilen kar aşağıda verilmiştir.\n",
    "\n",
    "    Her bir A makarnasının satışında 7 TL\n",
    "    Her bir B makarnasının satışından 5 TL\n",
    "    \n",
    "Firma karı maksimize etmek için, hangi makarnadan kaç adet üretmelidir?"
   ]
  },
  {
   "cell_type": "markdown",
   "metadata": {},
   "source": [
    "__Problemimizde her şey açıkça belitildiği için, modelimizi daha kolay yazabilmek için, karar değişkenlerimizi, amaç fonksiyonumuzu ve kısıtlarımızı yazmak ile başlayalım__"
   ]
  },
  {
   "cell_type": "markdown",
   "metadata": {},
   "source": [
    "#### Karar Değişkenleri ####\n",
    "$ X $ --> A Makarnasından üretilecek miktar <br>\n",
    "$ Y $ --> B Makarnasından üretilecek miktar"
   ]
  },
  {
   "cell_type": "markdown",
   "metadata": {},
   "source": [
    "#### Amaç Fonksiyonu ####\n",
    "___Maximize 7X + 5Y___"
   ]
  },
  {
   "cell_type": "markdown",
   "metadata": {},
   "source": [
    "#### Kısıtlar ####\n",
    "$ X + Y <= 5 $ <br>\n",
    "$ 3X + 2Y <= 12 $ <br>\n",
    "$ X >= 0 $ <br>\n",
    "$ Y >= 0 $ <br>"
   ]
  },
  {
   "cell_type": "markdown",
   "metadata": {},
   "source": [
    "### Problemin Docplex ile çözümü ###\n",
    "Bu problemin çözümü için öncelikle gerekli kütüphanelerin ortamımızda kurulu olması gerekiyor. <br>\n",
    "Anaconda Dağıtımı kuruluysa çoğu gerekli kütüphane hali hazırda gelecektir. İlk defa kurulum yapacaksanız bu adresten Anaconda Dağıtımını kurabilirsiniz. https://www.anaconda.com/products/distribution <br>\n",
    "Docplex için ise 2 kütüphaneye ihtiyaç duyuyoruz: __cplex__ ve __docplex__ <br>\n"
   ]
  },
  {
   "cell_type": "markdown",
   "metadata": {},
   "source": [
    "__cplex__ ve __docplex__ yüklemek için bir çok alternatifiniz bulunmaktadır. Herhangi bir prompt ekranı (cmd, anaconda, conda, vb.) açarak __pip install__ komutunu kullanarak bu kütüphaneleri yükleyebilirsiniz. "
   ]
  },
  {
   "cell_type": "markdown",
   "metadata": {},
   "source": [
    "```Python \n",
    "pip install cplex\n",
    "pip install docplex\n",
    "``` "
   ]
  },
  {
   "cell_type": "markdown",
   "metadata": {},
   "source": [
    "İlk olarak kütüphanelerimizi import ediyoruz. <br>\n",
    "__cplex__ bilgisayarınızda yüklü olan cplex motorunu kullanmanızı sağlar. <br>\n",
    "__docplex__ Cplex'i pythonda kullanmanızı sağlar. İki farklı kütüphane vardır. mp ve cp. <br>\n",
    "\n",
    "__mp__ : Matematiksel Programlama - Mathematical Programming (docplex.mp)<br>\n",
    "__cp__ : Kısıt Programlama - Constraint Programming (docplex.cp)"
   ]
  },
  {
   "cell_type": "markdown",
   "metadata": {},
   "source": [
    "docplex.mp içindeki bazı classları daha rahat kullanmak için bunları ayrı import etmemiz faydalı olacaktır. Bunlardan en önemlisi __from docplex.mp.model import Model__ olandır. Optmizasyon modelimizi kurmamıza yarar. Karar değişkenlerimizi, kısıtlarımızı ve amaç fonksiyonumuzu ekleriz. Daha detaylı bilgi almak için http://ibmdecisionoptimization.github.io/docplex-doc/mp/docplex.mp.model.html"
   ]
  },
  {
   "cell_type": "markdown",
   "metadata": {},
   "source": [
    "### Kütüphanelerin alınması ###\n",
    "Problemimiz basit olduğu için sadece bu 3 kütüphane ile çözüme ulaşabiliriz. Üst tarafta yazdığımız kütüphaneleri alıyoruz."
   ]
  },
  {
   "cell_type": "code",
   "execution_count": 1,
   "metadata": {},
   "outputs": [],
   "source": [
    "import cplex\n",
    "import docplex.mp\n",
    "from docplex.mp.model import Model"
   ]
  },
  {
   "attachments": {},
   "cell_type": "markdown",
   "metadata": {},
   "source": [
    "### Model parametreleri ###\n",
    "Model class'ı 5 farklı parametre alabilmektedir. Biz aşağıda 2 tanesini kullanacağız.\n",
    "\n",
    "__name (optional)__ – Modele vereceğiniz isimdir. <br>\n",
    "__log_output (optional)__ – Eger bu parametre True olarak girilirse, model çalışırken ki log ekrana basılır. (Stdout) OPL'deki log mekanizmasının ekrana basılması olarak düşünebilirsiniz.  <br>"
   ]
  },
  {
   "cell_type": "markdown",
   "metadata": {},
   "source": [
    "Biz modelimize __LP_Ornek__ adını verdik ve logları ekrana yazdımak istediğimiz için log_output parametresinin değerini True olarak girdik. "
   ]
  },
  {
   "cell_type": "code",
   "execution_count": 62,
   "metadata": {},
   "outputs": [],
   "source": [
    "model = Model(name='LP_Ornek', log_output=True)"
   ]
  },
  {
   "cell_type": "markdown",
   "metadata": {},
   "source": [
    "### Karar Değişkenleri ###\n",
    "Problemimizde 2 farklı karar değişkenimiz vardı. Bunlar sürekli değişkenler (continuous variable) oldukları için, modele continuous_var olarak ekliyoruz. \n",
    "\n",
    "__continuous_var__ 3 farklı parametre alabilmektedir. Kısaca bunları da inceleyelim.\n",
    "\n",
    "__lb__ – Lower Bound yani alt sınır. Default değeri 0'dır. Karar değişkeninizin belli bir değerden büyük olmasını istiyorsanız, bunu kısıtlarda yazabileceğiniz gibi, burada da yazabilirsiniz. <br>\n",
    "__ub__ – Upper Bound yani üst sınır. Default değeri Sonsuzdur. Karar değişkeninizin belli bir değerden küçük olmasını istiyorsanız, bunu kısıtlarda yazabileceğiniz gibi, burada da yazabilirsiniz.  <br>\n",
    "__name (string)__ – Karar değişkene bir isim vermek istiyorsanız bu parametre ile yapabilirsiniz. <br>\n"
   ]
  },
  {
   "cell_type": "code",
   "execution_count": 63,
   "metadata": {},
   "outputs": [],
   "source": [
    "x = model.continuous_var(name='x')\n",
    "y = model.continuous_var(name='y')"
   ]
  },
  {
   "cell_type": "markdown",
   "metadata": {},
   "source": [
    "### Amaç Fonksiyonu ###\n",
    "Karar değişkenlerimizi tanımladıktan sonra sıra geldi, amaç fonksiyonunu yazmaya. Bu bir Lineer Programalama örneği olduğu için lineer bir ifade yazmamız gerekiyor. __maximize__ ya da __minimize__ yazdıktan sonra parantez açtıktan sonra lineer bir ifade yazarak çalıştırıyoruz."
   ]
  },
  {
   "cell_type": "code",
   "execution_count": 64,
   "metadata": {},
   "outputs": [],
   "source": [
    "model.maximize(7*x + 5*y)"
   ]
  },
  {
   "cell_type": "markdown",
   "metadata": {},
   "source": [
    "### Kısıtlar ###\n",
    "Modelimize kısıtlarımızı ekliyoruz. Kısıt eklemek için __add_constraint__ yazdıktan sonra parantez içine kısıtlarımızı giriyoruz. "
   ]
  },
  {
   "cell_type": "code",
   "execution_count": 65,
   "metadata": {},
   "outputs": [],
   "source": [
    "model.add_constraint(x + y <= 5)\n",
    "model.add_constraint(3*x + 2*y <= 12); "
   ]
  },
  {
   "cell_type": "markdown",
   "metadata": {},
   "source": [
    "### Çalıştırmadan Önce Son Kontroller ###\n",
    "Modelimizi oluşturduk, karar değişkenlerimizi belirledik, amaç fonksiyonumuzu ve kısıtlarımızı yadık. Modelimizi çözmeden önce mevcut durumu kontrol etmek için __print_information()__ çalıştırabiliriz. Sonuç olarak, 2 sürekli karar değişkenimiz, 2 kısıtımız var ve maximize yapmaya çalıştığımızı görüyoruz."
   ]
  },
  {
   "cell_type": "code",
   "execution_count": 66,
   "metadata": {
    "scrolled": true
   },
   "outputs": [
    {
     "name": "stdout",
     "output_type": "stream",
     "text": [
      "Model: LP_Ornek\n",
      " - number of variables: 2\n",
      "   - binary=0, integer=0, continuous=2\n",
      " - number of constraints: 2\n",
      "   - linear=2\n",
      " - parameters: defaults\n",
      " - objective: maximize\n",
      " - problem type is: LP\n"
     ]
    }
   ],
   "source": [
    "model.print_information() "
   ]
  },
  {
   "cell_type": "markdown",
   "metadata": {},
   "source": [
    "### Çözüm ###\n",
    "Modelimizin çözümü için __solve()__ fonksiyonunu kullanıyoruz. Bunun sonucunda CPLEX motoru kullanılarak yazdığımız model çözülmektedir."
   ]
  },
  {
   "cell_type": "code",
   "execution_count": 67,
   "metadata": {
    "scrolled": true
   },
   "outputs": [
    {
     "name": "stdout",
     "output_type": "stream",
     "text": [
      "Version identifier: 22.1.0.0 | 2022-03-25 | 54982fbec\n",
      "CPXPARAM_Read_DataCheck                          1\n",
      "Tried aggregator 1 time.\n",
      "No LP presolve or aggregator reductions.\n",
      "Presolve time = 0.00 sec. (0.00 ticks)\n",
      "\n",
      "Iteration log . . .\n",
      "Iteration:     1   Dual infeasibility =             0.000000\n",
      "Iteration:     2   Dual objective     =            29.000000\n"
     ]
    }
   ],
   "source": [
    "sol_model = model.solve()"
   ]
  },
  {
   "cell_type": "markdown",
   "metadata": {},
   "source": [
    "### Sonuçların Yazılması ###\n",
    "Model çözüm ürettikten sonra da bu sonuçlar __model__ içine kayıt edilir. __print_solution()__ kullanılarak modelin amaç fonksiyon sonucu ve karar değişkenlerinin hangi değerler aldığı görülebilir."
   ]
  },
  {
   "cell_type": "code",
   "execution_count": 73,
   "metadata": {},
   "outputs": [
    {
     "name": "stdout",
     "output_type": "stream",
     "text": [
      "objective: 29.000\n",
      "  x=2.000\n",
      "  y=3.000\n"
     ]
    }
   ],
   "source": [
    "model.print_solution()"
   ]
  },
  {
   "cell_type": "markdown",
   "metadata": {},
   "source": [
    "Model çalıştırırken sonuçları __sol_model__ parametresinin içine attığımız için bunu __print__ ederek de sonuçları görebiliri"
   ]
  },
  {
   "cell_type": "code",
   "execution_count": 75,
   "metadata": {
    "scrolled": true
   },
   "outputs": [
    {
     "name": "stdout",
     "output_type": "stream",
     "text": [
      "solution for: LP_Ornek\n",
      "objective: 29\n",
      "x=2.000\n",
      "y=3.000\n",
      "\n"
     ]
    }
   ],
   "source": [
    "print(sol_model)"
   ]
  },
  {
   "cell_type": "markdown",
   "metadata": {},
   "source": [
    "Modelin içindeki karar değişkenlerini array içinde göstererek bakabilirsiniz."
   ]
  },
  {
   "cell_type": "code",
   "execution_count": 77,
   "metadata": {},
   "outputs": [
    {
     "data": {
      "text/plain": [
       "2.0"
      ]
     },
     "execution_count": 77,
     "metadata": {},
     "output_type": "execute_result"
    }
   ],
   "source": [
    "sol_model[x]"
   ]
  },
  {
   "cell_type": "code",
   "execution_count": 78,
   "metadata": {},
   "outputs": [
    {
     "data": {
      "text/plain": [
       "3.0"
      ]
     },
     "execution_count": 78,
     "metadata": {},
     "output_type": "execute_result"
    }
   ],
   "source": [
    "sol_model[y]"
   ]
  },
  {
   "cell_type": "markdown",
   "metadata": {},
   "source": [
    "Bu dersin sonuna geldik. Buraya kadar geldiğiniz için teşekkürler <br>\n",
    "__Sabri Suyunu__"
   ]
  }
 ],
 "metadata": {
  "kernelspec": {
   "display_name": "Python 3.9.2 64-bit",
   "language": "python",
   "name": "python3"
  },
  "language_info": {
   "codemirror_mode": {
    "name": "ipython",
    "version": 3
   },
   "file_extension": ".py",
   "mimetype": "text/x-python",
   "name": "python",
   "nbconvert_exporter": "python",
   "pygments_lexer": "ipython3",
   "version": "3.9.2"
  },
  "vscode": {
   "interpreter": {
    "hash": "0f0150d968314df5bca2ad021364428e82637123af0c01dbd623a2a87d49f66c"
   }
  }
 },
 "nbformat": 4,
 "nbformat_minor": 2
}
