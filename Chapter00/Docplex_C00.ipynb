{
 "cells": [
  {
   "cell_type": "markdown",
   "metadata": {},
   "source": [
    "# DOcplex Nedir? #\n",
    "İnternette __DOcplex nedir__ diye arattığınızda karşınıza hiç bir sonuç çıkmaz. Çünkü Docplex ile ilgili hiç Türkçe kaynak yoktur. <br>\n",
    "__What is DOcplex__ yazdığınızda ise IBM sitesinde tanımı karşımıza çıkar  "
   ]
  },
  {
   "cell_type": "markdown",
   "metadata": {},
   "source": [
    "IBM Decision Optimization CPLEX Modeling for Python, also known as DOcplex, is a library composed of two modules:\n",
    "\n",
    "    Mathematical Programming Modeling for Python using docplex.mp (DOcplex.MP)\n",
    "    Constraint Programming Modeling for Python using docplex.cp (DOcplex.CP)\n",
    "\n",
    "DOcplex is a native Python modeling library for optimization.\n",
    "\n",
    "It's compatible with the NumPy and pandas libraries and available from the PyPI or conda package managers.\n",
    "\n",
    "Kaynak: https://www.ibm.com/docs/en/icos/12.9.0?topic=docplex-python-modeling-api"
   ]
  },
  {
   "cell_type": "markdown",
   "metadata": {},
   "source": [
    "Özet olarak DOcplex, IBM CPLEX'in gücünü python dilinin esnekliği ile birleştirebildiğimiz bir kütüphanedir."
   ]
  },
  {
   "cell_type": "markdown",
   "metadata": {},
   "source": [
    "IBM CPLEX'in ne olduğunu bilmiyor olsanız zaten burada olmazdınız. Ama yine de IBM CPLEX'in ne olduğunu merak ediyorsanız şu linkten inceleyebilirsiniz. https://www.ibm.com/tr-tr/products/ilog-cplex-optimization-studio "
   ]
  },
  {
   "cell_type": "markdown",
   "metadata": {},
   "source": [
    "### DOcplex'i nasıl kullanabilirim? ##\n",
    "DOcplex'i kullanmak için bilgisayarınızda CPLEX kurulu olması gerekir. Eğer ücretli sürüm bilgisayarınızda yüklü ise zaten sıkıntı yok. Fakat eğer yüklü değil ise iki altrnatifiniz var.\n",
    "\n",
    "__1- Community Edition__ : https://www.ibm.com/tr-tr/products/ilog-cplex-optimization-studio adresine girdiğinizde __Ücretsiz Sürümü Deneyin__ linkine tıkladığınızda sizden bir formu doldurmanızı istenecektir. Bu formu doldurduğunuzda ücretsiz sürüme erişebilirsiniz. Ücretsiz sürümde bazı kısıtlamalar bulunmaktadır. (1000 karar değişkeni ve süre kısıtları vb.)\n",
    "\n",
    "__2- Academic Edition__ : https://www.ibm.com/academic/topic/data-science adresine girdiğinizde sizden kayıt olmanız istenecektir. Kayıt olmak için, üniversite kimliğiniz (lisans, yüksek lisans, doktora ya da akademik kadro) ve edu uzantılı mail adresiniz istenecektir. Kayıt olduktan sonra hemen kullanıma açılmayabilir. Belirli bir kontrol mekanizmasından sonra edu uzantılı mail adresinize bir onay gelecektir ve bu onaydan sonra indirme linklerine ulaşabilirsiniz. Akademik versiyonun herhangi bir limiti yoktur. Fakat akademik versiyonu kurumsal çözümler için kullanamazsınız. Bunu engelleyen herhangi bir kontrol mekanizması olmasa da etik olarak yapmamanız gerekir.  "
   ]
  },
  {
   "cell_type": "markdown",
   "metadata": {},
   "source": [
    "### Eğitimde Neler Bulunmaktadır? ###\n",
    "Eğitim X Notebook'tan oluşmaktadır. Basit modellerden başlayarak daha kompleks modellere doğru ilerleyeceğiz. Aşağıda her bir dersin içeriği ile ilgili notebookların açıklamaları bulunmaktadır. \n",
    "\n",
    "[DOcplex Chapter 00](https://github.com/suyosunu/DOcplex/blob/master/Chapter00/Docplex_C00.ipynb) : DOcplex'in ne olduğunun anlatıldığı ve eğitim içeriğinin anlatıldığı notebooktur. <br>\n",
    "[DOcplex Chapter 01](https://github.com/suyosunu/DOcplex/blob/master/Chapter01/Docplex_C01.ipynb) : DOcplex kütüphanelerinin yüklenmesi, basit bir matematiksel modelin DOcplex'de nasıl kurulduğunun detaylı anlatıldığı notebooktur. <br>\n",
    "[DOcplex Chapter 02](https://github.com/suyosunu/DOcplex/blob/master/Chapter01/Docplex_C02.ipynb) : CPLEX'in kendi dili olan OPL ile DOcplex arasındaki farkların bir örnek ile anlatıldığı notebooktur. <br>\n",
    "[DOcplex Chapter 03](https://github.com/suyosunu/DOcplex/blob/master/Chapter01/Docplex_C03.ipynb) : Doğrusal Programlamaya giriş eğitimidir. Bir örnek ile doğrusal programlama, grafik çözümü, DOcplex uygulaması, infeasiblity, hard ve soft constriantler anlatılmıştır. <br>"
   ]
  },
  {
   "cell_type": "markdown",
   "metadata": {},
   "source": [
    "### Faydalanılan Kaynaklar ###\n",
    "CPLEX ücretli (yüksek ücretli) bir çözücü olduğu için kurumsal ve akademik alan dışında olmadığı için, internette kaynak sıkıntısı bulunmaktadır. Yine de IBM'in kendi oluşturduğu dokumanlar ve kaynaklar hem çok değerli hem de yeterlidir. \n",
    "\n",
    "Bu dokumanlar hazırlanırken aşağıdaki kaynaklardan faydalanılmıştır. <br> <br>\n",
    "__Medium__ <br>\n",
    "https://medium.com/@AlainChabrier/decision-optimization-education-a50cada93856 <br>\n",
    "https://medium.com/@AlainChabrier/opl-vs-python-docplex-2d7b28814740 <br>\n",
    "\n",
    "__Github__ <br>\n",
    "https://github.com/IBMDecisionOptimization/docplex-examples <br>\n",
    "https://github.com/IBMDecisionOptimization/docplex-doc <br>\n",
    "https://github.com/IBMDecisionOptimization/docplex-mssql-sample <br>\n",
    "\n",
    "__IBM__ <br>\n",
    "http://ibmdecisionoptimization.github.io/docplex-doc/ <br>\n"
   ]
  },
  {
   "cell_type": "markdown",
   "metadata": {},
   "source": [
    "### Komunite ###\n",
    "Buna ek olarak, IBM'in tartışma platformu ve komunitesi takıldığınız yerler için çok faydalı olacaktır. Geliştiricilerin cevap verdiği bu platforma da kayıt olmanızı tavsiye ederim. <br>\n",
    "https://community.ibm.com/community/user/datascience/communities/community-home/digestviewer?tab=digestviewer&CommunityKey=ab7de0fd-6f43-47a9-8261-33578a231bb7"
   ]
  },
  {
   "cell_type": "markdown",
   "metadata": {},
   "source": [
    "Bu dersin sonuna geldik. Buraya kadar geldiğiniz için teşekkürler <br>\n",
    "__Sabri Suyunu__"
   ]
  }
 ],
 "metadata": {
  "kernelspec": {
   "display_name": "Python 3.9.2 64-bit",
   "language": "python",
   "name": "python3"
  },
  "language_info": {
   "codemirror_mode": {
    "name": "ipython",
    "version": 3
   },
   "file_extension": ".py",
   "mimetype": "text/x-python",
   "name": "python",
   "nbconvert_exporter": "python",
   "pygments_lexer": "ipython3",
   "version": "3.9.2"
  },
  "vscode": {
   "interpreter": {
    "hash": "0f0150d968314df5bca2ad021364428e82637123af0c01dbd623a2a87d49f66c"
   }
  }
 },
 "nbformat": 4,
 "nbformat_minor": 2
}
