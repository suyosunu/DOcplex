{
 "cells": [
  {
   "cell_type": "markdown",
   "metadata": {},
   "source": [
    "# Pazarlama Kampanyası - Hedefli Teklifler #\n",
    "Dünyadaki tüm problemler optimizasyon ile çözülebilir mi? Peki bir problemin optimizasyon ile çözülmesi için neye ihtiyaç vardır? Kısıtlı kaynak ve seçim yapabilecek alternatiflerin olması. Eğer bu ikisi varsa optimizasyon ile çözmeniz durumunda en iyiye ulaşabilirsiniz. Bu örneğimizde, müşterilerimize uygun reklam kampanyaları için kaynaklarımızı etkin kullanmaya çalışacağız. Bu örnek çözüm hazırlanırken, <a href=\"https://github.com/IBMDecisionOptimization/docplex-examples/blob/f540bccbaf552bca0fe4a1fb13a33aaceef72588/examples/mp/jupyter/marketing_campaign.ipynb\"> Viu-Long Kong tarafından hazırlanan notebook'tan </a> faydalanılmıştır."
   ]
  },
  {
   "cell_type": "markdown",
   "metadata": {},
   "source": [
    "## Problem ##\n",
    "Bu örnete hayali bir bankamız bulunmaktadır. Pazarlama departmanımız, her müşteriye doğru finansal hizmet teklifi sunup eşleştirerek, gelecekteki kampanyalarda daha karlı sonuçlar elde etmek istemektedir. Veri Bilimi departmanımız daha önce verilen tekliflere ve yanıtlara göre müşterilerin hangi finansal hizmet teklifine nasıl cevap vereceğinin olasılıklarını hesapladı. Bizim yapmamız gereken bu olasılıkları kullanarak en iyi teklif planını hesaplayacak bir model kurmamız gerekiyor. \n",
    "\n",
    "Bunu yaparken aşağıdaki kurallara uymamız gerekiyor.\n",
    "<ul>\n",
    "    <li>\"Hediyeler\", \"bülten\", \"seminer\" gibi araçları kullanarak yapacağız pazarlama kampanyası  için sınırlı bir bütçemiz var.</li>\n",
    "    <li>Müşterilerle iletişim kurmanın en iyi yolunun hangisi olduğunu belirlemek istiyoruz.</li>\n",
    "    <li>Hangi müşterilerle iletişime geçeceğimizi belirlememiz gerekiyor.</li>\n",
    "</ul>\n",
    "Haydi başlayalım"
   ]
  },
  {
   "cell_type": "markdown",
   "metadata": {},
   "source": [
    "## DOcplex ile Çözüm ##\n",
    "__Verinin Hazırlanması__<br>\n",
    "Tahminler, bir müşterinin hangi teklifi kabul etme olasılığının en yüksek olduğunu ve her müşterinin ayrıntılarına bağlı olarak kabul edeceği güveni gösterir.\n",
    "\n",
    "Temelde iki verimiz bulunmaktadır. Birinci verimiz müşterilerin ismini vermektedir. Diğer verimiz ise her bir müşterinin ürünlerimizi alma olasılıklarını berlirtmektedir.\n",
    "\n",
    "Örneğin: (139987, \"Pension\", 0.13221, \"Mortgage\", 0.10675),  müşteri Id=139987'nin %13 oranından dolayı kesinlikle Emeklilik satın almayacağını belirtirken (140030, \"Savings\", 0.95678, \"Pension\" \", 0.84446), 140030 ID'li müşteri için oranlar %95,7 ve %84,4 olduğundan Tasarruf ve Emeklilik satın alma olasılığı daha yüksektir.\n",
    "\n",
    "Bu örneğimizde Pandas kütüphanesini kullanacağız."
   ]
  },
  {
   "cell_type": "code",
   "execution_count": 2,
   "metadata": {},
   "outputs": [],
   "source": [
    "import pandas as pd\n",
    "\n",
    "names = {\n",
    "    139987 : \"Guadalupe J. Martinez\", 140030 : \"Michelle M. Lopez\", 140089 : \"Terry L. Ridgley\", \n",
    "    140097 : \"Miranda B. Roush\", 139068 : \"Sandra J. Wynkoop\", 139154 : \"Roland Guérette\", 139158 : \"Fabien Mailhot\", \n",
    "    139169 : \"Christian Austerlitz\", 139220 : \"Steffen Meister\", 139261 : \"Wolfgang Sanger\",\n",
    "    139416 : \"Lee Tsou\", 139422 : \"Sanaa' Hikmah Hakimi\", 139532 : \"Miroslav Škaroupka\", \n",
    "    139549 : \"George Blomqvist\", 139560 : \"Will Henderson\", 139577 : \"Yuina Ohira\", 139580 : \"Vlad Alekseeva\", \n",
    "    139636 : \"Cassio Lombardo\", 139647 : \"Trinity Zelaya Miramontes\", 139649 : \"Eldar Muravyov\", 139665 : \"Shu T'an\", \n",
    "    139667 : \"Jameel Abdul-Ghani Gerges\", 139696 : \"Zeeb Longoria Marrero\", 139752 : \"Matheus Azevedo Melo\", \n",
    "    139832 : \"Earl B. Wood\", 139859 : \"Gabrielly Sousa Martins\", 139881 : \"Franca Palermo\"}\n",
    "\n",
    "\n",
    "data = [(139987, \"Pension\", 0.13221, \"Mortgage\", 0.10675), (140030, \"Savings\", 0.95678, \"Pension\", 0.84446), (140089, \"Savings\", 0.95678, \"Pension\", 0.80233), \n",
    "                        (140097, \"Pension\", 0.13221, \"Mortgage\", 0.10675), (139068, \"Pension\", 0.80506, \"Savings\", 0.28391), (139154, \"Pension\", 0.13221, \"Mortgage\", 0.10675), \n",
    "                        (139158, \"Pension\", 0.13221, \"Mortgage\", 0.10675),(139169, \"Pension\", 0.13221, \"Mortgage\", 0.10675), (139220, \"Pension\", 0.13221, \"Mortgage\", 0.10675), \n",
    "                        (139261, \"Pension\", 0.13221, \"Mortgage\", 0.10675), (139416, \"Pension\", 0.13221, \"Mortgage\", 0.10675), (139422, \"Pension\", 0.13221, \"Mortgage\", 0.10675), \n",
    "                        (139532, \"Savings\", 0.95676, \"Mortgage\", 0.82269), (139549, \"Savings\", 0.16428, \"Pension\", 0.13221), (139560, \"Savings\", 0.95678, \"Pension\", 0.86779), \n",
    "                        (139577, \"Pension\", 0.13225, \"Mortgage\", 0.10675), (139580, \"Pension\", 0.13221, \"Mortgage\", 0.10675), (139636, \"Pension\", 0.13221, \"Mortgage\", 0.10675), \n",
    "                        (139647, \"Savings\", 0.28934, \"Pension\", 0.13221), (139649, \"Pension\", 0.13221, \"Mortgage\", 0.10675), (139665, \"Savings\", 0.95675, \"Pension\", 0.27248), \n",
    "                        (139667, \"Pension\", 0.13221, \"Mortgage\", 0.10675), (139696, \"Savings\", 0.16188, \"Pension\", 0.13221), (139752, \"Pension\", 0.13221, \"Mortgage\", 0.10675), \n",
    "                        (139832, \"Savings\", 0.95678, \"Pension\", 0.83426), (139859, \"Savings\", 0.95678, \"Pension\", 0.75925), (139881, \"Pension\", 0.13221, \"Mortgage\", 0.10675)]\n",
    "\n",
    "products = [\"Car loan\", \"Savings\", \"Mortgage\", \"Pension\"]\n",
    "productValue = [100, 200, 300, 400]\n",
    "budgetShare = [0.6, 0.1, 0.2, 0.1]\n",
    "\n",
    "availableBudget = 500\n",
    "channels =  pd.DataFrame(data=[(\"gift\", 20.0, 0.20), (\"newsletter\", 15.0, 0.05), (\"seminar\", 23.0, 0.30)], columns=[\"name\", \"cost\", \"factor\"])"
   ]
  },
  {
   "cell_type": "markdown",
   "metadata": {},
   "source": [
    "Pandas kullanarak, offers veri yapısını oluşturuyoruz ve bu veri yapısına müşteri isimlerini getiriyoruz"
   ]
  },
  {
   "cell_type": "code",
   "execution_count": 8,
   "metadata": {},
   "outputs": [],
   "source": [
    "offers = pd.DataFrame(data=data, index=range(0, len(data)), columns=[\"customerid\", \"Product1\", \"Confidence1\", \"Product2\", \"Confidence2\"])\n",
    "offers.insert(0,'name',pd.Series(names[i[0]] for i in data))"
   ]
  },
  {
   "cell_type": "code",
   "execution_count": 10,
   "metadata": {},
   "outputs": [
    {
     "data": {
      "text/html": [
       "<div>\n",
       "<style scoped>\n",
       "    .dataframe tbody tr th:only-of-type {\n",
       "        vertical-align: middle;\n",
       "    }\n",
       "\n",
       "    .dataframe tbody tr th {\n",
       "        vertical-align: top;\n",
       "    }\n",
       "\n",
       "    .dataframe thead th {\n",
       "        text-align: right;\n",
       "    }\n",
       "</style>\n",
       "<table border=\"1\" class=\"dataframe\">\n",
       "  <thead>\n",
       "    <tr style=\"text-align: right;\">\n",
       "      <th></th>\n",
       "      <th>name</th>\n",
       "      <th>customerid</th>\n",
       "      <th>Product1</th>\n",
       "      <th>Confidence1</th>\n",
       "      <th>Product2</th>\n",
       "      <th>Confidence2</th>\n",
       "    </tr>\n",
       "  </thead>\n",
       "  <tbody>\n",
       "    <tr>\n",
       "      <th>0</th>\n",
       "      <td>Guadalupe J. Martinez</td>\n",
       "      <td>139987</td>\n",
       "      <td>Pension</td>\n",
       "      <td>0.13221</td>\n",
       "      <td>Mortgage</td>\n",
       "      <td>0.10675</td>\n",
       "    </tr>\n",
       "    <tr>\n",
       "      <th>1</th>\n",
       "      <td>Michelle M. Lopez</td>\n",
       "      <td>140030</td>\n",
       "      <td>Savings</td>\n",
       "      <td>0.95678</td>\n",
       "      <td>Pension</td>\n",
       "      <td>0.84446</td>\n",
       "    </tr>\n",
       "    <tr>\n",
       "      <th>2</th>\n",
       "      <td>Terry L. Ridgley</td>\n",
       "      <td>140089</td>\n",
       "      <td>Savings</td>\n",
       "      <td>0.95678</td>\n",
       "      <td>Pension</td>\n",
       "      <td>0.80233</td>\n",
       "    </tr>\n",
       "    <tr>\n",
       "      <th>3</th>\n",
       "      <td>Miranda B. Roush</td>\n",
       "      <td>140097</td>\n",
       "      <td>Pension</td>\n",
       "      <td>0.13221</td>\n",
       "      <td>Mortgage</td>\n",
       "      <td>0.10675</td>\n",
       "    </tr>\n",
       "    <tr>\n",
       "      <th>4</th>\n",
       "      <td>Sandra J. Wynkoop</td>\n",
       "      <td>139068</td>\n",
       "      <td>Pension</td>\n",
       "      <td>0.80506</td>\n",
       "      <td>Savings</td>\n",
       "      <td>0.28391</td>\n",
       "    </tr>\n",
       "  </tbody>\n",
       "</table>\n",
       "</div>"
      ],
      "text/plain": [
       "                    name  customerid Product1  Confidence1  Product2  \\\n",
       "0  Guadalupe J. Martinez      139987  Pension      0.13221  Mortgage   \n",
       "1      Michelle M. Lopez      140030  Savings      0.95678   Pension   \n",
       "2       Terry L. Ridgley      140089  Savings      0.95678   Pension   \n",
       "3       Miranda B. Roush      140097  Pension      0.13221  Mortgage   \n",
       "4      Sandra J. Wynkoop      139068  Pension      0.80506   Savings   \n",
       "\n",
       "   Confidence2  \n",
       "0      0.10675  \n",
       "1      0.84446  \n",
       "2      0.80233  \n",
       "3      0.10675  \n",
       "4      0.28391  "
      ]
     },
     "execution_count": 10,
     "metadata": {},
     "output_type": "execute_result"
    }
   ],
   "source": [
    "offers.head(5)"
   ]
  },
  {
   "cell_type": "markdown",
   "metadata": {},
   "source": [
    "__Modelin kurulması__"
   ]
  },
  {
   "cell_type": "code",
   "execution_count": 12,
   "metadata": {},
   "outputs": [],
   "source": [
    "import docplex.mp\n",
    "import cplex\n",
    "from docplex.mp.model import Model"
   ]
  },
  {
   "cell_type": "code",
   "execution_count": 13,
   "metadata": {},
   "outputs": [],
   "source": [
    "mdl = Model(name=\"marketing_campaign\")"
   ]
  },
  {
   "cell_type": "markdown",
   "metadata": {},
   "source": [
    "__Karar Değişkenlerinin Tanımlanması__"
   ]
  },
  {
   "cell_type": "markdown",
   "metadata": {},
   "source": [
    "__ChannelVars:__ _tamsayılı karar değişkeni (binary)_ - Bir müşteriye belirli bir kanal aracılığıyla belirli bir ürün için teklif yapılıp yapılmayacağını temsil eder. <br>\n",
    "__Totaloffers:__ _tamsayı karar değişkeni_ - Yapılan tekliflerin toplam sayısını temsil eder.<br>\n",
    "__budgetSpent:__ _sürekli değişken_ - Yapılan tekliflerin toplam maliyetini temsil eder.<br>"
   ]
  },
  {
   "cell_type": "code",
   "execution_count": 14,
   "metadata": {},
   "outputs": [],
   "source": [
    "offersR = range(0, len(offers))\n",
    "productsR = range(0, len(products))\n",
    "channelsR = range(0, len(channels))\n",
    "\n",
    "channelVars = mdl.binary_var_cube(offersR, productsR, channelsR)\n",
    "totaloffers = mdl.integer_var(lb=0)\n",
    "budgetSpent = mdl.continuous_var()"
   ]
  },
  {
   "cell_type": "markdown",
   "metadata": {},
   "source": [
    "__Kısıtların Tanımlanması__\n",
    "\n",
    "- Her bir müşteri için sdaece bir ürün sunulabilir.\n",
    "- Bütçe hesaplanmalı ve bir sınır koyulmalıdır.\n",
    "- Yapılan teklif sayısı hesaplanmalı ve diğer hesaplar içinde kullanıma hazır hale getirilmelidir."
   ]
  },
  {
   "cell_type": "code",
   "execution_count": 15,
   "metadata": {},
   "outputs": [
    {
     "name": "stdout",
     "output_type": "stream",
     "text": [
      "Model: marketing_campaign\n",
      " - number of variables: 326\n",
      "   - binary=324, integer=1, continuous=1\n",
      " - number of constraints: 34\n",
      "   - linear=34\n",
      " - parameters: defaults\n",
      " - objective: none\n",
      " - problem type is: MILP\n"
     ]
    }
   ],
   "source": [
    "# Only 1 product is offered to each customer     \n",
    "mdl.add_constraints( mdl.sum(channelVars[o,p,c] for p in productsR for c in channelsR) <=1\n",
    "                   for o in offersR)\n",
    "\n",
    "mdl.add_constraint( totaloffers == mdl.sum(channelVars[o,p,c] \n",
    "                                           for o in offersR \n",
    "                                           for p in productsR \n",
    "                                           for c in channelsR) )\n",
    "\n",
    "mdl.add_constraint( budgetSpent == mdl.sum(channelVars[o,p,c]*channels.at[c, \"cost\"] \n",
    "                                           for o in offersR \n",
    "                                           for p in productsR \n",
    "                                           for c in channelsR) )\n",
    "\n",
    "# Balance the offers among products   \n",
    "for p in productsR:\n",
    "    mdl.add_constraint( mdl.sum(channelVars[o,p,c] for o in offersR for c in channelsR) \n",
    "                       <= budgetShare[p] * totaloffers )\n",
    "            \n",
    "# Do not exceed the budget\n",
    "mdl.add_constraint( mdl.sum(channelVars[o,p,c]*channels.at[c, \"cost\"] \n",
    "                            for o in offersR \n",
    "                            for p in productsR \n",
    "                            for c in channelsR)  <= availableBudget )  \n",
    "\n",
    "mdl.print_information()"
   ]
  },
  {
   "cell_type": "markdown",
   "metadata": {},
   "source": [
    "__Amaç Fonksiyonunun Belirlenmesi__\n",
    "\n",
    "Geliri maksimize edecek amaç fonksiyonunu yazacağız. Her bir müşteri için 2 ürün ihtimali olduğu için, amaç fonksiyonumuzu da buna göre yazıyoruz. Binary değişkenimiz sadece bir tanesini seçtiği için, bir üründe 1 diğer üründe 0 olacaktır. Sonuç olarak, tüm değişkenler ve veriler kullanarak geliri maksimize eden fonksiyonumuzu yazacağız."
   ]
  },
  {
   "cell_type": "code",
   "execution_count": 16,
   "metadata": {},
   "outputs": [],
   "source": [
    "mdl.maximize(\n",
    "    mdl.sum( channelVars[idx,p,idx2] * c.factor * productValue[p]* o.Confidence1  \n",
    "            for p in productsR \n",
    "            for idx,o in offers[offers['Product1'] == products[p]].iterrows()  \n",
    "            for idx2, c in channels.iterrows())\n",
    "    +\n",
    "    mdl.sum( channelVars[idx,p,idx2] * c.factor * productValue[p]* o.Confidence2 \n",
    "            for p in productsR \n",
    "            for idx,o in offers[offers['Product2'] == products[p]].iterrows() \n",
    "            for idx2, c in channels.iterrows())\n",
    "    )"
   ]
  },
  {
   "cell_type": "markdown",
   "metadata": {},
   "source": [
    "__Modelin Çözümü__"
   ]
  },
  {
   "cell_type": "code",
   "execution_count": 24,
   "metadata": {},
   "outputs": [],
   "source": [
    "s = mdl.solve()\n",
    "assert s, \"No Solution !!!\""
   ]
  },
  {
   "cell_type": "markdown",
   "metadata": {},
   "source": [
    "__Sonuçların Analiz Edilmesi__\n",
    "\n",
    "İlk olarak, Müşteri Başına Optimal Pazarlama Kanalını görüntüleyelim."
   ]
  },
  {
   "cell_type": "code",
   "execution_count": 25,
   "metadata": {},
   "outputs": [],
   "source": [
    "report = [(channels.at[c, \"name\"], products[p], names[offers.at[o, \"customerid\"]]) \n",
    "          for c in channelsR \n",
    "          for p in productsR \n",
    "          for o in offersR  if channelVars[o,p,c].solution_value==1]\n"
   ]
  },
  {
   "cell_type": "code",
   "execution_count": 26,
   "metadata": {},
   "outputs": [
    {
     "name": "stdout",
     "output_type": "stream",
     "text": [
      "Marketing plan has 19.999999999999982 offers costing 364.0\n"
     ]
    },
    {
     "data": {
      "text/html": [
       "<div>\n",
       "<style scoped>\n",
       "    .dataframe tbody tr th:only-of-type {\n",
       "        vertical-align: middle;\n",
       "    }\n",
       "\n",
       "    .dataframe tbody tr th {\n",
       "        vertical-align: top;\n",
       "    }\n",
       "\n",
       "    .dataframe thead th {\n",
       "        text-align: right;\n",
       "    }\n",
       "</style>\n",
       "<table border=\"1\" class=\"dataframe\">\n",
       "  <thead>\n",
       "    <tr style=\"text-align: right;\">\n",
       "      <th></th>\n",
       "      <th>channel</th>\n",
       "      <th>product</th>\n",
       "      <th>customer</th>\n",
       "    </tr>\n",
       "  </thead>\n",
       "  <tbody>\n",
       "    <tr>\n",
       "      <th>0</th>\n",
       "      <td>newsletter</td>\n",
       "      <td>Car loan</td>\n",
       "      <td>Fabien Mailhot</td>\n",
       "    </tr>\n",
       "    <tr>\n",
       "      <th>1</th>\n",
       "      <td>newsletter</td>\n",
       "      <td>Car loan</td>\n",
       "      <td>Christian Austerlitz</td>\n",
       "    </tr>\n",
       "    <tr>\n",
       "      <th>2</th>\n",
       "      <td>newsletter</td>\n",
       "      <td>Car loan</td>\n",
       "      <td>Lee Tsou</td>\n",
       "    </tr>\n",
       "    <tr>\n",
       "      <th>3</th>\n",
       "      <td>newsletter</td>\n",
       "      <td>Car loan</td>\n",
       "      <td>Sanaa' Hikmah Hakimi</td>\n",
       "    </tr>\n",
       "    <tr>\n",
       "      <th>4</th>\n",
       "      <td>newsletter</td>\n",
       "      <td>Car loan</td>\n",
       "      <td>George Blomqvist</td>\n",
       "    </tr>\n",
       "    <tr>\n",
       "      <th>5</th>\n",
       "      <td>newsletter</td>\n",
       "      <td>Car loan</td>\n",
       "      <td>Yuina Ohira</td>\n",
       "    </tr>\n",
       "    <tr>\n",
       "      <th>6</th>\n",
       "      <td>newsletter</td>\n",
       "      <td>Car loan</td>\n",
       "      <td>Vlad Alekseeva</td>\n",
       "    </tr>\n",
       "    <tr>\n",
       "      <th>7</th>\n",
       "      <td>newsletter</td>\n",
       "      <td>Car loan</td>\n",
       "      <td>Cassio Lombardo</td>\n",
       "    </tr>\n",
       "    <tr>\n",
       "      <th>8</th>\n",
       "      <td>newsletter</td>\n",
       "      <td>Car loan</td>\n",
       "      <td>Trinity Zelaya Miramontes</td>\n",
       "    </tr>\n",
       "    <tr>\n",
       "      <th>9</th>\n",
       "      <td>newsletter</td>\n",
       "      <td>Car loan</td>\n",
       "      <td>Eldar Muravyov</td>\n",
       "    </tr>\n",
       "    <tr>\n",
       "      <th>10</th>\n",
       "      <td>newsletter</td>\n",
       "      <td>Car loan</td>\n",
       "      <td>Jameel Abdul-Ghani Gerges</td>\n",
       "    </tr>\n",
       "    <tr>\n",
       "      <th>11</th>\n",
       "      <td>newsletter</td>\n",
       "      <td>Car loan</td>\n",
       "      <td>Zeeb Longoria Marrero</td>\n",
       "    </tr>\n",
       "    <tr>\n",
       "      <th>12</th>\n",
       "      <td>seminar</td>\n",
       "      <td>Savings</td>\n",
       "      <td>Terry L. Ridgley</td>\n",
       "    </tr>\n",
       "    <tr>\n",
       "      <th>13</th>\n",
       "      <td>seminar</td>\n",
       "      <td>Savings</td>\n",
       "      <td>Gabrielly Sousa Martins</td>\n",
       "    </tr>\n",
       "    <tr>\n",
       "      <th>14</th>\n",
       "      <td>seminar</td>\n",
       "      <td>Mortgage</td>\n",
       "      <td>Miranda B. Roush</td>\n",
       "    </tr>\n",
       "    <tr>\n",
       "      <th>15</th>\n",
       "      <td>seminar</td>\n",
       "      <td>Mortgage</td>\n",
       "      <td>Miroslav Škaroupka</td>\n",
       "    </tr>\n",
       "    <tr>\n",
       "      <th>16</th>\n",
       "      <td>seminar</td>\n",
       "      <td>Mortgage</td>\n",
       "      <td>Matheus Azevedo Melo</td>\n",
       "    </tr>\n",
       "    <tr>\n",
       "      <th>17</th>\n",
       "      <td>seminar</td>\n",
       "      <td>Mortgage</td>\n",
       "      <td>Franca Palermo</td>\n",
       "    </tr>\n",
       "    <tr>\n",
       "      <th>18</th>\n",
       "      <td>seminar</td>\n",
       "      <td>Pension</td>\n",
       "      <td>Michelle M. Lopez</td>\n",
       "    </tr>\n",
       "    <tr>\n",
       "      <th>19</th>\n",
       "      <td>seminar</td>\n",
       "      <td>Pension</td>\n",
       "      <td>Will Henderson</td>\n",
       "    </tr>\n",
       "  </tbody>\n",
       "</table>\n",
       "</div>"
      ],
      "text/plain": [
       "       channel   product                   customer\n",
       "0   newsletter  Car loan             Fabien Mailhot\n",
       "1   newsletter  Car loan       Christian Austerlitz\n",
       "2   newsletter  Car loan                   Lee Tsou\n",
       "3   newsletter  Car loan       Sanaa' Hikmah Hakimi\n",
       "4   newsletter  Car loan           George Blomqvist\n",
       "5   newsletter  Car loan                Yuina Ohira\n",
       "6   newsletter  Car loan             Vlad Alekseeva\n",
       "7   newsletter  Car loan            Cassio Lombardo\n",
       "8   newsletter  Car loan  Trinity Zelaya Miramontes\n",
       "9   newsletter  Car loan             Eldar Muravyov\n",
       "10  newsletter  Car loan  Jameel Abdul-Ghani Gerges\n",
       "11  newsletter  Car loan      Zeeb Longoria Marrero\n",
       "12     seminar   Savings           Terry L. Ridgley\n",
       "13     seminar   Savings    Gabrielly Sousa Martins\n",
       "14     seminar  Mortgage           Miranda B. Roush\n",
       "15     seminar  Mortgage         Miroslav Škaroupka\n",
       "16     seminar  Mortgage       Matheus Azevedo Melo\n",
       "17     seminar  Mortgage             Franca Palermo\n",
       "18     seminar   Pension          Michelle M. Lopez\n",
       "19     seminar   Pension             Will Henderson"
      ]
     },
     "metadata": {},
     "output_type": "display_data"
    }
   ],
   "source": [
    "print(\"Marketing plan has {0} offers costing {1}\".format(totaloffers.solution_value, budgetSpent.solution_value))\n",
    "\n",
    "report_bd = pd.DataFrame(report, columns=['channel', 'product', 'customer'])\n",
    "display(report_bd)"
   ]
  },
  {
   "cell_type": "markdown",
   "metadata": {},
   "source": [
    "Şimdi de Seminer'e bakalım."
   ]
  },
  {
   "cell_type": "code",
   "execution_count": 27,
   "metadata": {},
   "outputs": [
    {
     "data": {
      "text/html": [
       "<div>\n",
       "<style scoped>\n",
       "    .dataframe tbody tr th:only-of-type {\n",
       "        vertical-align: middle;\n",
       "    }\n",
       "\n",
       "    .dataframe tbody tr th {\n",
       "        vertical-align: top;\n",
       "    }\n",
       "\n",
       "    .dataframe thead th {\n",
       "        text-align: right;\n",
       "    }\n",
       "</style>\n",
       "<table border=\"1\" class=\"dataframe\">\n",
       "  <thead>\n",
       "    <tr style=\"text-align: right;\">\n",
       "      <th></th>\n",
       "      <th>product</th>\n",
       "      <th>customer</th>\n",
       "    </tr>\n",
       "  </thead>\n",
       "  <tbody>\n",
       "    <tr>\n",
       "      <th>12</th>\n",
       "      <td>Savings</td>\n",
       "      <td>Terry L. Ridgley</td>\n",
       "    </tr>\n",
       "    <tr>\n",
       "      <th>13</th>\n",
       "      <td>Savings</td>\n",
       "      <td>Gabrielly Sousa Martins</td>\n",
       "    </tr>\n",
       "    <tr>\n",
       "      <th>14</th>\n",
       "      <td>Mortgage</td>\n",
       "      <td>Miranda B. Roush</td>\n",
       "    </tr>\n",
       "    <tr>\n",
       "      <th>15</th>\n",
       "      <td>Mortgage</td>\n",
       "      <td>Miroslav Škaroupka</td>\n",
       "    </tr>\n",
       "    <tr>\n",
       "      <th>16</th>\n",
       "      <td>Mortgage</td>\n",
       "      <td>Matheus Azevedo Melo</td>\n",
       "    </tr>\n",
       "    <tr>\n",
       "      <th>17</th>\n",
       "      <td>Mortgage</td>\n",
       "      <td>Franca Palermo</td>\n",
       "    </tr>\n",
       "    <tr>\n",
       "      <th>18</th>\n",
       "      <td>Pension</td>\n",
       "      <td>Michelle M. Lopez</td>\n",
       "    </tr>\n",
       "    <tr>\n",
       "      <th>19</th>\n",
       "      <td>Pension</td>\n",
       "      <td>Will Henderson</td>\n",
       "    </tr>\n",
       "  </tbody>\n",
       "</table>\n",
       "</div>"
      ],
      "text/plain": [
       "     product                 customer\n",
       "12   Savings         Terry L. Ridgley\n",
       "13   Savings  Gabrielly Sousa Martins\n",
       "14  Mortgage         Miranda B. Roush\n",
       "15  Mortgage       Miroslav Škaroupka\n",
       "16  Mortgage     Matheus Azevedo Melo\n",
       "17  Mortgage           Franca Palermo\n",
       "18   Pension        Michelle M. Lopez\n",
       "19   Pension           Will Henderson"
      ]
     },
     "metadata": {},
     "output_type": "display_data"
    }
   ],
   "source": [
    "display(report_bd[report_bd['channel'] == \"seminar\"].drop('channel',1))"
   ]
  },
  {
   "cell_type": "markdown",
   "metadata": {},
   "source": [
    "## Sonuç ##\n",
    "Bu eğitimde, binary karar değişkeni kullanarak bir modelleme örneği çözdük. Pandas kütüphanesinin modellemede kullanılması ile ilgili de güzel bir örnek oldu. Bir sonraki eğitimde görüşmek üzere.\n",
    "\n",
    "__Sabri Suyunu__"
   ]
  }
 ],
 "metadata": {
  "kernelspec": {
   "display_name": "Python 3",
   "language": "python",
   "name": "python3"
  },
  "language_info": {
   "codemirror_mode": {
    "name": "ipython",
    "version": 3
   },
   "file_extension": ".py",
   "mimetype": "text/x-python",
   "name": "python",
   "nbconvert_exporter": "python",
   "pygments_lexer": "ipython3",
   "version": "3.7.3"
  }
 },
 "nbformat": 4,
 "nbformat_minor": 2
}
