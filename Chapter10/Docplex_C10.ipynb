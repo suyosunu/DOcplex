{
 "cells": [
  {
   "cell_type": "markdown",
   "metadata": {},
   "source": [
    "# OPL Ve DOcplex #\n",
    "Eğitim ya da iş hayatında IBM CPLEX kullanan bir çok insan CPLEX'in kendi dili olan OPL kullanmıştır. Daha doğrusu OPL kullanarak CPLEX öğrenmeye başlamıştır. OPL'in artı ve eksi yönleri bulunuyor. <br><br>\n",
    "Artıları, OPL'de model yazmak çok kolay. Eğer elinizde matematiksel bir gösterim bulunuyorsa bunu çok hızlı bir şekilde OPL'de yazabilirsiniz. SQL'de konuşur gibi yazıyorsunuz ya, OPL'de de aynı şekilde matetmatiksel gösterimin aynısını geçirebilirsiniz. OPL kullanımı ile ilgili de bir çok kaynak bulabilirsiniz. <br><br>\n",
    "Eksiklere örnek verecek olursak,\n",
    "<ol>\n",
    "    <li>Veri kaynaklarına bağlantılarda sıkıntılar yaşayabilirsiniz</li>\n",
    "    <li>CPLEX'in kendi Flow (akış) yönetimi biraz karışık. Bu kısmı öğrenmek için biraz çaba sarfetmek gerekiyor.</li>\n",
    "    <li>OPL'de yazılan bir modeli ürünleştirmek için bir kaç takla atmak gerekebiliyor. (Oplrun gibi)</li>\n",
    "    <li>Veri yapıları yeterli fakat veri tiplerinde bazı sıkıntılar yaşanabiliyor. <a href=\"https://community.ibm.com/community/user/datascience/communities/community-home/digestviewer/viewthread?MessageKey=551d41b7-8bf5-4f62-87c1-cacd889842ad\">Örnek</a> </li>\n",
    "</ol>\n",
    "\n",
    "Eğitimin bu bölümünde, OPL'deki syntax ile DOcplex syntaxi karşılaştırmalı olarak anlatılacaktır. Bu anlatım için <a href=\"https://www.linkedin.com/in/alain-chabrier-5430656/?originalSubdomain=fr\">Alain Chabrier'in</a> <a href=\"https://medium.com/@AlainChabrier/opl-vs-python-docplex-2d7b28814740\">Medium'daki makalesi</a> örnek olarak kullanılacaktır. Bu notebook bir modeli baştan sona çözmek yerine, OPL ve DOcplex arasındaki kullanım farklarını anlatacaktır.\n",
    "<br><br>"
   ]
  },
  {
   "cell_type": "markdown",
   "metadata": {},
   "source": [
    "### Sigorta Fiyat Optimizasyonu ###\n",
    "Yazılan modelin daha iyi anlaşılabilmesi için problemi de anlamak gerekiyor. Problemde, her bir müşterimiz için ciroyu maksimize edecek fiyatı teklifi vermeye çalışıyoruz. \n",
    "\n",
    "Modelde iki farklı veri bulunuyor.\n",
    "\n",
    "<ul>\n",
    "    <li><b>rangeAsSet.csv</b> Bu veri setinde müşteriler için verilen eski fiyatlar ile en düşük ve en yüksek fiyat limitleri bulunuyor.</li>\n",
    "    <li><b>rawData.csv</b> Bu veri setinde, müşteriler için tüm fiyatlar için ihtimaller ve bu fiyatlara göre oluşacak cirolar bulunuyor.</li>\n",
    "</ul>\n",
    "\n",
    "Verileri, bu problemin çözümü için yazılmış modelleri incelemek için şu <a href=\"https://github.com/achabrier/assets/tree/master/InsurancePricing\">linke</a> bakabilirsiniz. <br><br>"
   ]
  },
  {
   "cell_type": "markdown",
   "metadata": {},
   "source": [
    "### Input Data - Modele verilerin alınması ###\n",
    "OPL'de bir veritabanından ya da CSV'den veri aldığınız zaman __tuple__ yapısı kullanırsınız. Aşağıda OPL'de __rawData__ için hazırlanmış tuple bulunmaktadır.\n",
    "\n",
    "<code><b>OPL</b> \n",
    "tuple TRawData {  \n",
    "  int index;  \n",
    "  key int customer;  \n",
    "  key int priceIndex;  \n",
    "  float price;  \n",
    "  float probability;  \n",
    "  float revenue;\n",
    "};\n",
    "\n",
    "{TRawData} rawData = ...; \n",
    "</code>\n",
    "\n"
   ]
  },
  {
   "cell_type": "markdown",
   "metadata": {},
   "source": [
    "<b>DOcplex</b><br>\n",
    "DOcplex bir python kütüphanesi olduğu için, veriyi python'ın özelliklerini kullanarak alacağız. Python'da veriyi işlemenin en kolay yolu nedir? Tabiki __pandas__. Pandas kullanarak csv'yi rahatlıkla dataframe atabiliyoruz. Aşağıda örneği bulunuyor."
   ]
  },
  {
   "cell_type": "code",
   "execution_count": 39,
   "metadata": {},
   "outputs": [
    {
     "data": {
      "text/html": [
       "<div>\n",
       "<style scoped>\n",
       "    .dataframe tbody tr th:only-of-type {\n",
       "        vertical-align: middle;\n",
       "    }\n",
       "\n",
       "    .dataframe tbody tr th {\n",
       "        vertical-align: top;\n",
       "    }\n",
       "\n",
       "    .dataframe thead th {\n",
       "        text-align: right;\n",
       "    }\n",
       "</style>\n",
       "<table border=\"1\" class=\"dataframe\">\n",
       "  <thead>\n",
       "    <tr style=\"text-align: right;\">\n",
       "      <th></th>\n",
       "      <th>index</th>\n",
       "      <th>customer</th>\n",
       "      <th>priceIndex</th>\n",
       "      <th>price</th>\n",
       "      <th>probability</th>\n",
       "      <th>revenue</th>\n",
       "    </tr>\n",
       "  </thead>\n",
       "  <tbody>\n",
       "    <tr>\n",
       "      <th>0</th>\n",
       "      <td>0</td>\n",
       "      <td>0</td>\n",
       "      <td>0</td>\n",
       "      <td>0.0</td>\n",
       "      <td>0.977771</td>\n",
       "      <td>0.000000</td>\n",
       "    </tr>\n",
       "    <tr>\n",
       "      <th>1</th>\n",
       "      <td>1</td>\n",
       "      <td>0</td>\n",
       "      <td>1</td>\n",
       "      <td>1.0</td>\n",
       "      <td>0.973877</td>\n",
       "      <td>0.973877</td>\n",
       "    </tr>\n",
       "  </tbody>\n",
       "</table>\n",
       "</div>"
      ],
      "text/plain": [
       "   index  customer  priceIndex  price  probability   revenue\n",
       "0      0         0           0    0.0     0.977771  0.000000\n",
       "1      1         0           1    1.0     0.973877  0.973877"
      ]
     },
     "execution_count": 39,
     "metadata": {},
     "output_type": "execute_result"
    }
   ],
   "source": [
    "import pandas as pd\n",
    "rawData = pd.read_csv('rawData.csv')\n",
    "rawData.head(2)"
   ]
  },
  {
   "cell_type": "markdown",
   "metadata": {},
   "source": [
    "Pandas'ın özelliklerini kullanarak, mevcut veri setimizi kullanarak farklı listeler oluşturabiliriz. Bu listeleri de kullanarak hem istemediğimiz alanları çıkarabilir ve yeni veri yapımız sayesinde oluşturacağımız KPI'lar için de daha verimli dataframeler oluşturabiliriz."
   ]
  },
  {
   "cell_type": "code",
   "execution_count": 40,
   "metadata": {},
   "outputs": [],
   "source": [
    "customers = rawData['customer'].unique().tolist()\n",
    "priceIndices = rawData['priceIndex'].unique().tolist()\n",
    "rawData = rawData.set_index(['customer', 'priceIndex'])"
   ]
  },
  {
   "cell_type": "code",
   "execution_count": 45,
   "metadata": {
    "scrolled": true
   },
   "outputs": [
    {
     "data": {
      "text/html": [
       "<div>\n",
       "<style scoped>\n",
       "    .dataframe tbody tr th:only-of-type {\n",
       "        vertical-align: middle;\n",
       "    }\n",
       "\n",
       "    .dataframe tbody tr th {\n",
       "        vertical-align: top;\n",
       "    }\n",
       "\n",
       "    .dataframe thead th {\n",
       "        text-align: right;\n",
       "    }\n",
       "</style>\n",
       "<table border=\"1\" class=\"dataframe\">\n",
       "  <thead>\n",
       "    <tr style=\"text-align: right;\">\n",
       "      <th></th>\n",
       "      <th></th>\n",
       "      <th>index</th>\n",
       "      <th>price</th>\n",
       "      <th>probability</th>\n",
       "      <th>revenue</th>\n",
       "    </tr>\n",
       "    <tr>\n",
       "      <th>customer</th>\n",
       "      <th>priceIndex</th>\n",
       "      <th></th>\n",
       "      <th></th>\n",
       "      <th></th>\n",
       "      <th></th>\n",
       "    </tr>\n",
       "  </thead>\n",
       "  <tbody>\n",
       "    <tr>\n",
       "      <th rowspan=\"2\" valign=\"top\">0</th>\n",
       "      <th>0</th>\n",
       "      <td>0</td>\n",
       "      <td>0.0</td>\n",
       "      <td>0.977771</td>\n",
       "      <td>0.000000</td>\n",
       "    </tr>\n",
       "    <tr>\n",
       "      <th>1</th>\n",
       "      <td>1</td>\n",
       "      <td>1.0</td>\n",
       "      <td>0.973877</td>\n",
       "      <td>0.973877</td>\n",
       "    </tr>\n",
       "  </tbody>\n",
       "</table>\n",
       "</div>"
      ],
      "text/plain": [
       "                     index  price  probability   revenue\n",
       "customer priceIndex                                     \n",
       "0        0               0    0.0     0.977771  0.000000\n",
       "         1               1    1.0     0.973877  0.973877"
      ]
     },
     "execution_count": 45,
     "metadata": {},
     "output_type": "execute_result"
    }
   ],
   "source": [
    "rawData.head(2)"
   ]
  },
  {
   "cell_type": "markdown",
   "metadata": {},
   "source": [
    "<br><br>\n",
    "### Pre-proecessing - Veri Ön İşleme ###\n",
    "Br optimizasyon modelindeki en büyük zorluklardan birisi, verinin optimizasyon için uygun olmamasıdır. Örneğin veri ambarı olmayan bir şirkette transaction (tekil kayıt) verilerinden optimizasyon yapmaya çalıştığınızı düşün. İlk yapmanız gereken verileri modelleme için gruplamanız (aggregate) gerekmektedir. Modelinizdeki indislerinize uygun master tablolalarınızı oluşturup, bu indislere göre kayıtlarınızı düzenlemeniz gerekmektedir. Genel olarak bu gibi işlemler veri kaynağındaki prosedürlerle yapmak daha doğrudur. Fakat küçük ya da daha az sıklıkla kullanılacak projelerde bu işlemler OPL ya da DOcplex (python) katmanında da yapılabilir. \n",
    "\n",
    "Bu eğitimin en başında bahsettiğim üzere, OPL'in esenk bir yapısı bulunuyor ve bu yapı sayesinde JS kodları bile kullanabiliyorsunuz. Tek satırda bir çok işlemi yapabiliyorsunuz. Aşağıda bir örnek ile giriş yapalım.\n",
    "\n",
    "<code><b>OPL</b>\n",
    "    {int} priceIndiceSubset =  { pi | pi in priceIndices : ord(priceIndices,pi) < card(priceIndices)-1};\n",
    "</code>\n",
    "\n",
    "PriceIndices kümesinde her bir müşteri için fiyat adımları tekrar etmektedir. Tüm tekil fiyat adımlarını almak için bu satırı yazıyoruz. __ord__ sırasını, __card__ küme içindeki sayıyı veriyor.\n",
    "\n",
    "__DOcplex__ bu kodu aşağıdaki gibi yazıyoruz.\n"
   ]
  },
  {
   "cell_type": "code",
   "execution_count": 52,
   "metadata": {},
   "outputs": [],
   "source": [
    "priceIndiceSubset =  [ pi for pi in priceIndices if priceIndices.index(pi)<len(priceIndices)-1 ]"
   ]
  },
  {
   "cell_type": "markdown",
   "metadata": {},
   "source": [
    "<br><br>\n",
    "### Model Creation - Model Oluşturma ###\n",
    "OPL'de model oluşturmak için herhangi bir şey yapmanıza gerek yoktur. Zaten OPL yazıyor olmanız model yazdığınız anlamına gelir. Eğer kısıt problemi çözüyorsanız, OPL'in bunu anlaması için en başa <code>using CP</code> yazmanız gerkemektedir.\n",
    "\n",
    "__DOcplex__'te model oluştururken ilgili kütüphaneyi import etmeniz gerekmektedir. Eğer Matematiksel Programlama çözecekseniz aşağıdaki yazmanız modele başlangıç yeterlidir.\n",
    "    \n"
   ]
  },
  {
   "cell_type": "code",
   "execution_count": 46,
   "metadata": {},
   "outputs": [],
   "source": [
    "from docplex.mp.model import Model \n",
    "mdl = Model(name='InsurancePricing')"
   ]
  },
  {
   "cell_type": "markdown",
   "metadata": {},
   "source": [
    "DOcplex'in en güzel özelliklerinden biri, tek python dosyasınd abir çok model oluşturup bunları birleştirebilir, karşılaştırabilir, çıktılarını girdi olarak kullanabilirsiniz. OPL'de bunu yapmak için ayrı mod dosyaları oluşturmanız gerekmektedir. Bunları karşılaştırmak ya da birleştirmek için de ayrı bir flow oluşturmanız gerekecektir."
   ]
  },
  {
   "cell_type": "markdown",
   "metadata": {},
   "source": [
    "<br><br>\n",
    "### Decision Variables - Karar Değişkenleri ###\n",
    "OPL'de karar değişkeni oluşturmak için __dvar__ yazmanız ardından veri tipini belirttikten sonra indisleri yazmanız gerekir.\n",
    "<code><b>OPL</b><br>\n",
    "    dvar  float lambda1[c in customers][pi in priceIndices] in 0..1;\n",
    "    dvar  float lambda2[c in customers][pi in priceIndices] in 0..1;\n",
    "    dvar  boolean z[c in customers][pi in priceIndiceSubset];\n",
    "</code>\n",
    "   \n",
    "<b>DOcplex</b>'de ise önceki derslerimizde anlattığımız gibi, daha önce oluşturduğumuz model (mdl) ekleme yaparak ilerliyoruz. binary, integer ya da continuous değişkenler ile eklemeler yapıyoruz. Modelimizde 2 sürekli bir de ikili değişkenimiz bulunuyor. İkili değişkenimiz hangi müşteri için hangi fiyatı kullanacağımızı bulmak için kullanacağız. "
   ]
  },
  {
   "cell_type": "code",
   "execution_count": null,
   "metadata": {},
   "outputs": [],
   "source": [
    "lambda1 = mdl.continuous_var_matrix(customers, priceIndices, lb=0, ub=1, name='lambda1')\n",
    "lambda2 = mdl.continuous_var_matrix(customers, priceIndices, lb=0, ub=1, name='lambda2')\n",
    "z = mdl.binary_var_matrix(customers, priceIndiceSubset, name='z')"
   ]
  },
  {
   "cell_type": "markdown",
   "metadata": {},
   "source": [
    "<br><br>\n",
    "### KPIs - Decission Expressions - Performans Metrikleri ###\n",
    "__OPL__'de model sonucunun performansının daha iyi ölçülmesi, metriklerin hespalanması ve ama ç fonksiyonun daha kolay yazılması için __dexpr__ ifadesi bulunmaktadır. __dexpr__ sayesinde hesaplamalar daha kolay yapılmakta ve bu hesaplamalar modelin çıktısına ek olarak gösterilebilmektedir. Aşağıda örnek __dexpr__ yazılışları bulunmaktadır.\n",
    "\n",
    "<code><b>OPL</b>\n",
    "    dexpr float Revenue = revenue;\n",
    "    dexpr float Volume = volume ;\n",
    "    dexpr float AvgPriceIncrease = averagePriceIncrease;\n",
    "</code>\n"
   ]
  },
  {
   "cell_type": "markdown",
   "metadata": {},
   "source": [
    "__DOcplex__'de modele ekleme yapıyoruz. Öncelikle modelde hesap yapmak istediğimiz KPI ilgili agregate fonksiyonu ile ekledikten sonra __add_kpi__ yazarak bu KPI eklemesini yapıyoruz. Aşağıda örnek KPI eklemesini görebilirsiniz.\n"
   ]
  },
  {
   "cell_type": "code",
   "execution_count": null,
   "metadata": {},
   "outputs": [],
   "source": [
    "averagePriceIncrease = mdl.sum(((priceApplied[c]-previousPrice[c])/previousPrice[c])/len(customers) for c in customers)\n",
    "mdl.add_kpi(averagePriceIncrease, publish_name=\"KPI.AvgPriceIncrease\")"
   ]
  },
  {
   "cell_type": "markdown",
   "metadata": {},
   "source": [
    "<br><br>\n",
    "### Objectives - Amaç Fonksiyonu ###\n",
    "Amaç fonksiyonu yazmak hem OPL'de hem de DOcplex'de gayet kolaydır. İncelediğimiz bu modelde ağırlıklar kullanılmaktadır. Bu sebeple bu ağırlıklar kullanılarak, Ciro (revenue), Hacim (Volume), Ortalama Fiyat Artışı(Avg Price Increase) toplamı minimize edilmeye çalışılmaktadır. __Weights__ adlı tablodaki ağırlıklar değiştirilerek model sonucu gözlemlenmektedir. Bu sebeple öncelikle bu ağırlıkların kullanıldığı KPI'lar oluşturulmakta ve bunların toplamı minimize edilmektedir.\n",
    "\n",
    "<code><b>OPL</b>\n",
    "    dexpr float resRevenue = - revenueWeight * revenue;\n",
    "    dexpr float resVolume = - volumeWeight * volume ;\n",
    "    dexpr float resAvgPriceIncrease = avgIncWeight * averagePriceIncrease;minimize resRevenue + resVolume + resAvgPriceIncrease;\n",
    "</code>"
   ]
  },
  {
   "cell_type": "markdown",
   "metadata": {},
   "source": [
    "__DOcplex__'de OPL'de yazdığımızdan bir farkı bulunmamaktadır. Öncelikle değişkenlere atamalar yapıldıktan sonra, amaç fonksiyonu modele eklenmektedir.\n"
   ]
  },
  {
   "cell_type": "code",
   "execution_count": null,
   "metadata": {},
   "outputs": [],
   "source": [
    "resRevenue = - revenueWeight * revenue;\n",
    "resVolume = - volumeWeight * volume ;\n",
    "resAvgPriceIncrease = avgIncWeight * averagePriceIncrease;mdl.minimize(resRevenue + resVolume + resAvgPriceIncrease)"
   ]
  },
  {
   "cell_type": "markdown",
   "metadata": {},
   "source": [
    "<br><br>\n",
    "### Constraints - Kısıtlar ###\n",
    "__OPL__'de kısıt yazarken büyük kolaylık sağlayan __forall__ ifadesi bulunmaktadır. Kısıdı yazdığımız duruma göre __sum__ ile birlikte kullanabilmekteyiz. Bu sayede __her bir müşterinin__ ya da __her bir müşterinin alışverilerinin toplamı__ gibi ifadeleri kolaylıkla yazabilmekteyiz. Aşağıda örnek bir yazım bulunmaktadır. \n",
    "\n",
    "<code><b>OPL</b>\n",
    "forall( c in customers, pi in priceIndiceSubset) {            \n",
    "  ctConvexityCondition:        \n",
    "    lambda1[c][pi] + lambda2[c][pi] - z[c][pi] == 0;  \n",
    "}\n",
    "</code>\n"
   ]
  },
  {
   "cell_type": "markdown",
   "metadata": {},
   "source": [
    "__DOcplex__'de ise Python'ın döngü araçlarından biri olan __for__ kullanılmaktadır. __OPL__'de __forall__ parantezinde tüm indisler için tek seferde döndürebilmekteydik. Fakat Python'dan her bir indis için iç içe for yazmamız gerekmektedir. Eğer toplamlar için bir kısıt yazmamız gerekiyorsa __mdl.sum__ ifadesi ile kontrollerimizi yapmamız gerekiyor. Yazdığımız kısıtları modele eklemek için de __mdl.add_constraint()__ ifadesini kullanıyoruz."
   ]
  },
  {
   "cell_type": "code",
   "execution_count": null,
   "metadata": {},
   "outputs": [],
   "source": [
    "for c in customers:    \n",
    "  for pi in priceIndiceSubset:        \n",
    "    mdl.add_constraint(lambda1[c, pi] + lambda2[c, pi] - z[c, pi] == 0, 'ctConvexityCondition')"
   ]
  },
  {
   "cell_type": "markdown",
   "metadata": {},
   "source": [
    "<br><br>\n",
    "### Parameters - Parametreler ###\n",
    "CPLEX'de modelin çalışma süresi, gap limiti, vb. bir çok parametre hem OPL'de hem de DOcplex'de kullanımı çok kolaydır. CPLEX'de kullanılan parametreler için IBM çok detaylı ve düzenli bir dokuman yayınlamıştır. CPLEX kullanan herkesin bu dokumanı incelemesini tavsiye ederim. Özellikle uzun süren ve bitmeyen optmizasyon modellerinizi buradaki parametreleri inceleyerek ve kullanarak çok hızlı bir şekilde çözüme ulaştırabilirsiniz. Buraya <a href=\"https://www.ibm.com/docs/en/SSSA5P_12.8.0/ilog.odms.studio.help/pdf/paramcplex.pdf\">linki</a> bırakıyorum. Umarım faydalı olur. \n",
    "\n",
    "<code><b>OPL</b>\n",
    "execute PARAMS {\n",
    "  cplex.tilim = 100;\n",
    "}\n",
    "</code>\n"
   ]
  },
  {
   "cell_type": "markdown",
   "metadata": {},
   "source": [
    "__DOcplex__'de parametreler modele __mdl.parameters__ ile eklenir."
   ]
  },
  {
   "cell_type": "markdown",
   "metadata": {},
   "source": [
    "mdl.parameters.mip.tolerances.mipgap = 0.2"
   ]
  },
  {
   "cell_type": "markdown",
   "metadata": {},
   "source": [
    "<br><br>\n",
    "### Solve - Çözüm ###\n",
    "__OPL__'de çözmek için herhangi ifade yazmanıza gerek yoktur. IDE üzerinden çalıştır düğmesine bastığınızda model çalışır ve sonuçlar ekrana ya da istediğiniz dosyaya yazarak son bulur. \n",
    "\n",
    "__DOcplex__'de ise __mdl.solve()__ ifadesini kullanmaktayız. Bu ifade ile model çözmeye başlayacaktır."
   ]
  },
  {
   "cell_type": "code",
   "execution_count": null,
   "metadata": {},
   "outputs": [],
   "source": [
    "ok = mdl.solve()"
   ]
  },
  {
   "cell_type": "markdown",
   "metadata": {},
   "source": [
    "<br><br>\n",
    "### Sonuç ###\n",
    "Bu eğitimimizde __OPL__ ile __DOcplex__ arasındaki farkları Alain Chabrier'in makalesinden faydalanarak, biraz da kendimizden birşeyler ekleyerek anlatmaya çalıştık. Umarım faydalı olmuştur. Bir sonraki eğitimde görüşmek üzere.<br>\n",
    "__Sabri Suyunu__\n"
   ]
  }
 ],
 "metadata": {
  "kernelspec": {
   "display_name": "Python 3",
   "language": "python",
   "name": "python3"
  },
  "language_info": {
   "codemirror_mode": {
    "name": "ipython",
    "version": 3
   },
   "file_extension": ".py",
   "mimetype": "text/x-python",
   "name": "python",
   "nbconvert_exporter": "python",
   "pygments_lexer": "ipython3",
   "version": "3.7.3"
  }
 },
 "nbformat": 4,
 "nbformat_minor": 2
}
