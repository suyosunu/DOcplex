{
 "cells": [
  {
   "cell_type": "markdown",
   "metadata": {},
   "source": [
    "# DOcplex Çalıştırırken Modelin İzlenmesi (Listeners) #\n",
    "Bir optimizasyon modeli eğer kısa sürede çözüm üretiyosa bu modeli izlemeye gerek yoktur. Fakat optimum noktayı bulması zaman alıyorsa ve süreci takip etmek gerekiyorsa, modelin izlenmesi gerekir. IBM CPLEX OPL Studio'da modeli çalıştırdığınızda __Engine Log__ sekmesinde modelin adımlarını takip edebilirsiniz. Fakat DOCplex'de takip etmek için farklı kütüphaneleri import etmeniz gerekmektedir.\n",
    "\n",
    "Bu eğitimde, bir optimizasyon modelini DOcplex'de çalıştırırken nasıl izleyeceğiniz anlatılacaktır. Eğitim içeriği <a href=\"https://github.com/IBMDecisionOptimization/docplex-examples/blob/f540bccbaf552bca0fe4a1fb13a33aaceef72588/examples/mp/jupyter/progress.ipynb\">bu linkteki notebook</a> faydalınalarak hazırlanmıştır."
   ]
  },
  {
   "cell_type": "markdown",
   "metadata": {},
   "source": [
    "## Modelin Oluşturulması ##\n",
    "DOcplex'de bir modeli izlemek için öncelikle yorucu bir model oluşturmamız gerekiyor. Bunun için girdiye göre büyüyen bir model oluşturulmuştur. Model için iki boyutlu bir binary karar değişkenimiz var. Bu karar değişkenimiz verilen kısıtlara göre 2 indisli koordinat sisteminde kalp oluşturacak çözüm kümesini bulmaya çalışıyor. \n",
    "\n",
    "Yazdığımız modeli bir fonksiyona atıyoruz ve bu fonksiyon kaça kaçlık bir matris olacağını parametre ile dışardan almaktadır."
   ]
  },
  {
   "cell_type": "code",
   "execution_count": 1,
   "metadata": {},
   "outputs": [],
   "source": [
    "from docplex.mp.model import Model\n",
    "\n",
    "def build_hearts(r, **kwargs):\n",
    "    # initialize the model\n",
    "    mdl = Model('love_hearts_%d' % r, **kwargs)\n",
    "\n",
    "    # the dictionary of decision variables, one variable\n",
    "    # for each circle with i in (1 .. r) as the row and\n",
    "    # j in (1 .. i) as the position within the row    \n",
    "    idx = [(i, j) for i in range(1, r + 1) for j in range(1, i + 1)]\n",
    "    a = mdl.binary_var_dict(idx, name=lambda ij: \"a_%d_%d\" % ij)\n",
    "\n",
    "    # the constraints - enumerate all equilateral triangles\n",
    "    # and prevent any such triangles being formed by keeping\n",
    "    # the number of included circles at its vertexes below 3\n",
    "\n",
    "    # for each row except the last\n",
    "    for i in range(1, r):\n",
    "        # for each position in this row\n",
    "        for j in range(1, i + 1):\n",
    "            # for each triangle of side length (k) with its upper vertex at\n",
    "            # (i, j) and its sides parallel to those of the overall shape\n",
    "            for k in range(1, r - i + 1):\n",
    "                # the sets of 3 points at the same distances clockwise along the\n",
    "                # sides of these triangles form k equilateral triangles\n",
    "                for m in range(k):\n",
    "                    u, v, w = (i + m, j), (i + k, j + m), (i + k - m, j + k - m)\n",
    "                    mdl.add(a[u] + a[v] + a[w] <= 2)\n",
    "\n",
    "    mdl.maximize(mdl.sum(a))\n",
    "    return mdl"
   ]
  },
  {
   "cell_type": "markdown",
   "metadata": {},
   "source": [
    "Şimdi küçük bir \"kalp\" programı oluşturalım ve modelin özelliklerine bakalım"
   ]
  },
  {
   "cell_type": "code",
   "execution_count": 2,
   "metadata": {},
   "outputs": [
    {
     "name": "stdout",
     "output_type": "stream",
     "text": [
      "Model: love_hearts_5\n",
      " - number of variables: 15\n",
      "   - binary=15, integer=0, continuous=0\n",
      " - number of constraints: 35\n",
      "   - linear=35\n",
      " - parameters: defaults\n",
      " - objective: maximize\n",
      " - problem type is: MILP\n"
     ]
    }
   ],
   "source": [
    "m5 = build_hearts(5)\n",
    "m5.print_information()"
   ]
  },
  {
   "cell_type": "markdown",
   "metadata": {},
   "source": [
    "## Modelin Dinlenmesi ##\n",
    "Büyük (veya karmaşık) MIP problemlerinde çözüm bulmak biraz zaman alabilir. DOcplex parametrelerinden biri olan __log_output=True__ parametresi, CPLEX çözüm loglarını görüntülemenize olanak tanır. Fakat bazı durumlarda, aramanın ara noktalarında neler olup bittiğini kontrol etmek isteyebilirsiniz ve dinleyiciler (listeners) bunun için tasarlanmıştır."
   ]
  },
  {
   "cell_type": "markdown",
   "metadata": {},
   "source": [
    "### Dinleyiciler (Listeners) ###\n",
    "Dinleyiciler (Listeners) __docplex.mp.progress.ProgressListener__ classında bulunur. Modelinize bu kütüphanedeki classları eklediğinizde (__Model.add_progress_listener__) artık modelin çözümü için yapılan aramaları ekranda görmeye başlarsınız. Bu modelin çözümünü etkilemez sadece göreceğiniz bilgi akışını şekillendirir.\n",
    "\n",
    "Şimdi öncelikle kütüphanemizi import edelim."
   ]
  },
  {
   "cell_type": "code",
   "execution_count": 3,
   "metadata": {},
   "outputs": [],
   "source": [
    "from docplex.mp.progress import *"
   ]
  },
  {
   "cell_type": "markdown",
   "metadata": {},
   "source": [
    "En basit dinleyici classı, her çağrıldığında ekrana (stdout) bir mesaj yazdıran __TextProgressListener__'dır. Bakalım bu bizim küçük modelimizde ne yapıyor"
   ]
  },
  {
   "cell_type": "code",
   "execution_count": 4,
   "metadata": {},
   "outputs": [],
   "source": [
    "# connect a listener to the model\n",
    "m5.add_progress_listener(TextProgressListener())"
   ]
  },
  {
   "cell_type": "markdown",
   "metadata": {},
   "source": [
    "Burada, her çözümün aynı çıktıyı üretmesini istediğimiz için __clean_before_true__ parametresini ___True___ olarak ayarlayarak çözüyoruz. Bu parametre olmadan, modelde ikinci bir çözüm ilk çözümden başlayacak ve aynı çıktıya sahip olmayacaktır."
   ]
  },
  {
   "cell_type": "code",
   "execution_count": 12,
   "metadata": {},
   "outputs": [
    {
     "name": "stdout",
     "output_type": "stream",
     "text": [
      "  1+: Node=0 Left=1 Best Integer=8.0000, Best Bound=10.0000, gap=25.00%, ItCnt=21 [0.0s]\n",
      "  2+: Node=0 Left=1 Best Integer=8.0000, Best Bound=9.3266, gap=16.58%, ItCnt=33 [0.0s]\n",
      "  3+: Node=0 Left=1 Best Integer=8.0000, Best Bound=9.0636, gap=13.29%, ItCnt=42 [0.0s]\n"
     ]
    }
   ],
   "source": [
    "m5.solve(clean_before_solve=True);"
   ]
  },
  {
   "cell_type": "markdown",
   "metadata": {},
   "source": [
    "Dinleyici, CPLEX kodu tarafından her çağrıldığında bir satır yazdırıyor. Çıktıları şu şekilde yorumlayabiliriz:\n",
    "\n",
    "- dinleyici aynı düğümden birkaç kez aranıyor (Node=0)\n",
    "- dinleyici aynı yinelemede birkaç kez çağrılıyor (ItCnt=42)\n",
    "- dinleyici aynı çözüm için (8.0) ile birkaç kez çağrılıyor\n",
    "\n",
    "Her satırda, satırdaki sıra numaraısnın yanında '+' olması, arama sırasında bir ara çözümün mevcut olduğunu gösterir. Bu durumda, her aramada bir ara çözüm olabileceğini anlıyoruz. Daha yakından baktığımızda, dinleyicinin amaç geliştikçe ya da en iyi sınıra geldiğinde olaylara tepki verdiğini de görüyoruz. Daha detaylı sonuçlar alabilmek için __clock__ özelliğini kullanmamız gerekiyor."
   ]
  },
  {
   "cell_type": "markdown",
   "metadata": {},
   "source": [
    "Dinleyiciler ne sıklıkla ekrana bir şey yazacağı clock özellikleri ile belirlenir (__docplex.mp.progress.ProgressClock__). Her dinleyicinin bir clock özelliği vardır ve default olarak __ProgressClock.Gap__ ve aşağıdaki durumlarda tepki verir.\n",
    "- Bir ara çözüm bulduğunda\n",
    "- Hedef iyileştiğinde\n",
    "Şimdi modelimizin clock özelliğine bakalım"
   ]
  },
  {
   "cell_type": "code",
   "execution_count": 19,
   "metadata": {},
   "outputs": [
    {
     "name": "stdout",
     "output_type": "stream",
     "text": [
      "listener #1 has type 'TextProgressListener', clock=ProgressClock.Gap\n"
     ]
    }
   ],
   "source": [
    "for l, listener in enumerate(m5.iter_progress_listeners(), start=1):\n",
    "    print(\"listener #{0} has type '{1}', clock={2}\".format(l, listener.__class__.__name__, listener.clock))"
   ]
  },
  {
   "cell_type": "markdown",
   "metadata": {},
   "source": [
    "Şimdi aynı problemin çözümünde dinleme özelliğini __ALL__ yaparak çalıştıralım ve çıktıyı inceleyelim."
   ]
  },
  {
   "cell_type": "code",
   "execution_count": 20,
   "metadata": {},
   "outputs": [
    {
     "name": "stdout",
     "output_type": "stream",
     "text": [
      "  1+: Node=0 Left=1 Best Integer=8.0000, Best Bound=10.0000, gap=25.00%, ItCnt=21 [0.0s]\n",
      "  2+: Node=0 Left=1 Best Integer=8.0000, Best Bound=10.0000, gap=25.00%, ItCnt=21 [0.0s]\n",
      "  3+: Node=0 Left=1 Best Integer=8.0000, Best Bound=10.0000, gap=25.00%, ItCnt=33 [0.0s]\n",
      "  4+: Node=0 Left=1 Best Integer=8.0000, Best Bound=9.3266, gap=16.58%, ItCnt=33 [0.0s]\n",
      "  5+: Node=0 Left=1 Best Integer=8.0000, Best Bound=9.3266, gap=16.58%, ItCnt=42 [0.0s]\n",
      "  6+: Node=0 Left=1 Best Integer=8.0000, Best Bound=9.0636, gap=13.29%, ItCnt=42 [0.0s]\n",
      "  7+: Node=0 Left=1 Best Integer=8.0000, Best Bound=9.0636, gap=13.29%, ItCnt=45 [0.0s]\n"
     ]
    }
   ],
   "source": [
    "m5.clear_progress_listeners()\n",
    "m5.add_progress_listener(TextProgressListener(clock='all'))\n",
    "m5.solve(clean_before_solve=True);"
   ]
  },
  {
   "cell_type": "markdown",
   "metadata": {},
   "source": [
    "Bu durumda, dinleyici bazen sonuçta bir değişiklik olmaması ya da aynı hedef olması durumunda da ekrana yazdırır. Bu, default değerin neden GAP olduğunu daha iyi açıklamaktadır.\n",
    "\n",
    "Clocks için diğer parametre değerleri de şunlardır:\n",
    "\n",
    "     Solutions: Hedefi geliştirsin veya geliştirmesin, tüm ara çözümleri dinler.\n",
    "     Objective: Hedefi iyileştiren ara çözümleri dinler.\n"
   ]
  },
  {
   "cell_type": "code",
   "execution_count": 27,
   "metadata": {},
   "outputs": [
    {
     "name": "stdout",
     "output_type": "stream",
     "text": [
      "  1+: Node=0 Left=1 Best Integer=8.0000, Best Bound=10.0000, gap=25.00%, ItCnt=21 [0.0s]\n"
     ]
    }
   ],
   "source": [
    "m5.clear_progress_listeners()\n",
    "m5.add_progress_listener(TextProgressListener(clock='objective'))\n",
    "m5.solve(clean_before_solve=True);"
   ]
  },
  {
   "cell_type": "markdown",
   "metadata": {},
   "source": [
    "### Ara Çözümlerin Yönetilmesi ###\n",
    "Bu, __SolutionRecorder__ adlı kütüphanemizde bulunan önceden tanımlanmış başka bir dinleyici classı tarafından yapılır. Yine bu dinleyici, hangi olayların kabul edilip edilmediğini kontrol eden bir saat (clock) parametresi (varsayılanı Gap'tir) vardır.\n",
    "\n",
    "Yalnızca hedefi veya en iyi sınırları iyileştiren çözümleri kaydeder."
   ]
  },
  {
   "cell_type": "code",
   "execution_count": 28,
   "metadata": {},
   "outputs": [],
   "source": [
    "from docplex.mp.progress import SolutionRecorder\n",
    "\n",
    "sol_recorder = SolutionRecorder()\n",
    "m5.clear_progress_listeners()\n",
    "m5.add_progress_listener(sol_recorder)"
   ]
  },
  {
   "cell_type": "code",
   "execution_count": 29,
   "metadata": {},
   "outputs": [
    {
     "data": {
      "text/plain": [
       "docplex.mp.solution.SolveSolution(obj=8,values={a_2_1:1,a_2_2:1,a_3_1:1,.."
      ]
     },
     "execution_count": 29,
     "metadata": {},
     "output_type": "execute_result"
    }
   ],
   "source": [
    "m5.solve(clean_before_solve=True)"
   ]
  },
  {
   "cell_type": "markdown",
   "metadata": {},
   "source": [
    "Bütün çözümler kayıt altına alındı. Şimdi bu çözümlerin neler olduğunu inceleyelim."
   ]
  },
  {
   "cell_type": "code",
   "execution_count": 30,
   "metadata": {},
   "outputs": [
    {
     "name": "stdout",
     "output_type": "stream",
     "text": [
      "* The recorder contains 3 solutions\n",
      "  - solution #1, obj=8.0, non-zero-values=15, total=8.0\n",
      "  - solution #2, obj=8.0, non-zero-values=15, total=8.0\n",
      "  - solution #3, obj=8.0, non-zero-values=15, total=8.0\n"
     ]
    }
   ],
   "source": [
    "# utility function to display recorded solutions in a recorder.\n",
    "def display_recorded_solutions(rec):\n",
    "    print('* The recorder contains {} solutions'.format(rec.number_of_solutions))\n",
    "    for s, sol in enumerate(rec.iter_solutions(), start=1):\n",
    "        sumvals = sum(v for _, v in sol.iter_var_values())\n",
    "        print('  - solution #{0}, obj={1}, non-zero-values={2}, total={3}'.format(\n",
    "           s, sol.objective_value, sol.number_of_var_values, sumvals))\n",
    "        \n",
    "display_recorded_solutions(sol_recorder)"
   ]
  },
  {
   "cell_type": "markdown",
   "metadata": {},
   "source": [
    "Şimdi aynı çözümü clock (saat) olarak __Objective__ kullanarak çözelim. Bu kaydedici, en iyi sınırlar yerine yalnızca hedefi iyileştiren ara çözümleri kaydedecektir. Bu tür değişiklikler Gap saatinden daha az sıklıkta meydana geldiği için daha az çözümün kaydedilmesini bekleriz."
   ]
  },
  {
   "cell_type": "code",
   "execution_count": 31,
   "metadata": {},
   "outputs": [
    {
     "name": "stdout",
     "output_type": "stream",
     "text": [
      "* The recorder contains 1 solutions\n",
      "  - solution #1, obj=8.0, non-zero-values=15, total=8.0\n"
     ]
    }
   ],
   "source": [
    "sol_recorder2 = SolutionRecorder(clock='objective')\n",
    "m5.clear_progress_listeners()\n",
    "m5.add_progress_listener(sol_recorder2)\n",
    "m5.solve(clean_before_solve=True)\n",
    "display_recorded_solutions(sol_recorder2)"
   ]
  },
  {
   "cell_type": "markdown",
   "metadata": {},
   "source": [
    "### Dinleyici ile Çözücüyü İptal Etme ###\n",
    "Bazen MİP problemlerinin çözüm bulması uzun sürebilir. Ve bu gibi durumlarda __yeterince iyi__ bir çözüm yeterli olabilir. Örneğin GAP çok yavaş yakınsamaya başladığında, devam etmesini beklemek yerine bulunan en iyi çözüm kullanmak iyi bir fikir olabilir.\n",
    "\n",
    "Şöyle bir senaryo uygulamaya çalışalım. En son iyileştirmeden bu yana hedefte N saniye boyunca hiç bir gelişme olmaması durumunda optimizasyonu durdursun.\n",
    "\n",
    "İlk soracağımız soru şu olmalıdır. Hangi saati (clock) dinliyoruz? Bu durumda, iyileşmede olmadan geçen süreyi sınır olarak kullanacağımız için, daha yüsek frekanslı bir saat (clock) olan __ALL__ seçeneğini kullanacağız.\n",
    "\n",
    "İkinci olarak da, hem daha daha iyi bir dinleme yapabilmek hem de çözümden çok süreci dinleyeceğimiz için SolutionListener yerine ProgressListener kullanacağız. \n",
    "\n",
    "Durdurma kodunu yazmak için aşağıdaki bilgilere ihtiyacımız var:\n",
    "- Hedefin iyileşip iyileşmediğini kontrol edeceğiz.\n",
    "- İyileşmişse, iyileştiği zamanı ve hedefin değerini saklayacağız.\n",
    "- İyileşmemişse, geçen sürenin limitten büyük olup olmadığını kontrol edeceğiz.\n",
    "- Geçen süre limit değerden büyük olup olmadığını kontrol edeceğiz.\n",
    "- Geçmesi durumunda __abort()__ metodunu kullanarak çözücüyü durduracağız."
   ]
  },
  {
   "cell_type": "code",
   "execution_count": 32,
   "metadata": {},
   "outputs": [],
   "source": [
    "from docplex.mp.progress import ProgressListener\n",
    "\n",
    "class AutomaticAborter(ProgressListener):\n",
    "    \"\"\" a simple implementation of an automatic search stopper.\n",
    "    \"\"\"\n",
    "    def __init__(self, max_no_improve_time=10.):\n",
    "        super(AutomaticAborter, self).__init__(ProgressClock.All)\n",
    "        self.last_obj = None\n",
    "        self.last_obj_time = None\n",
    "        self.max_no_improve_time = max_no_improve_time\n",
    "        \n",
    "    def notify_start(self):\n",
    "        super(AutomaticAborter, self).notify_start()\n",
    "        self.last_obj = None\n",
    "        self.last_obj_time = None    \n",
    "        \n",
    "    def is_improving(self, new_obj, eps=1e-4):\n",
    "        last_obj = self.last_obj\n",
    "        return last_obj is None or (abs(new_obj- last_obj) >= eps)\n",
    "            \n",
    "    def notify_progress(self, pdata):\n",
    "        super(AutomaticAborter, self).notify_progress(pdata)\n",
    "        if pdata.has_incumbent and self.is_improving(pdata.current_objective):\n",
    "            self.last_obj = pdata.current_objective\n",
    "            self.last_obj_time = pdata.time\n",
    "            print('----> #new objective={0}, time={1}s'.format(self.last_obj, self.last_obj_time))\n",
    "        else:\n",
    "            # a non improving move\n",
    "            last_obj_time = self.last_obj_time\n",
    "            this_time = pdata.time\n",
    "            if last_obj_time is not None:\n",
    "                elapsed = (this_time - last_obj_time)\n",
    "                if elapsed >= self.max_no_improve_time:\n",
    "                    print('!! aborting cplex, elapsed={0} >= max_no_improve: {1}'.format(elapsed,\n",
    "                                                                             self.max_no_improve_time))\n",
    "                    self.abort()\n",
    "                else:\n",
    "                    print('----> non improving time={0}s'.format(elapsed))"
   ]
  },
  {
   "cell_type": "markdown",
   "metadata": {},
   "source": [
    "Şimdi daha büyük bir problem ile deneyelim."
   ]
  },
  {
   "cell_type": "code",
   "execution_count": 35,
   "metadata": {},
   "outputs": [
    {
     "name": "stdout",
     "output_type": "stream",
     "text": [
      "----> #new objective=23.0, time=0.015000000013969839s\n",
      "----> non improving time=0.01600000000325963s\n",
      "----> non improving time=0.03200000000651926s\n",
      "----> non improving time=0.03200000000651926s\n",
      "----> non improving time=0.0470000000204891s\n",
      "----> non improving time=0.0470000000204891s\n",
      "----> non improving time=0.06300000002374873s\n",
      "----> non improving time=0.06300000002374873s\n",
      "----> non improving time=0.0779999999795109s\n",
      "----> non improving time=0.0779999999795109s\n",
      "----> non improving time=0.10999999998603016s\n",
      "----> non improving time=0.10999999998603016s\n",
      "----> non improving time=0.125s\n",
      "----> non improving time=0.125s\n",
      "----> non improving time=0.14100000000325963s\n",
      "----> non improving time=0.14100000000325963s\n",
      "----> non improving time=0.15700000000651926s\n",
      "----> non improving time=0.1720000000204891s\n",
      "----> non improving time=0.18800000002374873s\n",
      "----> non improving time=0.2029999999795109s\n",
      "----> non improving time=0.23499999998603016s\n",
      "----> non improving time=0.23499999998603016s\n",
      "----> non improving time=0.26600000000325963s\n",
      "----> non improving time=0.26600000000325963s\n",
      "----> non improving time=0.28200000000651926s\n",
      "----> non improving time=0.28200000000651926s\n",
      "----> #new objective=24.0, time=0.32800000003771856s\n",
      "----> non improving time=0.0s\n",
      "----> non improving time=0.061999999976251274s\n",
      "----> non improving time=0.061999999976251274s\n",
      "----> non improving time=0.1559999999590218s\n",
      "----> non improving time=0.1559999999590218s\n",
      "----> non improving time=0.1559999999590218s\n",
      "----> non improving time=0.17199999996228144s\n",
      "----> non improving time=0.17199999996228144s\n",
      "----> non improving time=0.18699999997625127s\n",
      "----> non improving time=0.18699999997625127s\n",
      "----> non improving time=0.18699999997625127s\n",
      "----> non improving time=0.18699999997625127s\n",
      "----> non improving time=0.2029999999795109s\n",
      "----> non improving time=0.21899999998277053s\n",
      "----> non improving time=0.23399999999674037s\n",
      "----> non improving time=0.23399999999674037s\n",
      "----> non improving time=0.25s\n",
      "----> non improving time=0.2649999999557622s\n",
      "----> non improving time=0.29699999996228144s\n",
      "----> non improving time=0.3119999999762513s\n",
      "----> non improving time=0.34399999998277053s\n",
      "----> non improving time=0.375s\n",
      "----> non improving time=0.4059999999590218s\n",
      "----> non improving time=0.4369999999762513s\n",
      "----> non improving time=0.48399999999674037s\n",
      "----> non improving time=0.5149999999557622s\n",
      "----> non improving time=0.5469999999622814s\n",
      "----> non improving time=1.4369999999762513s\n",
      "----> non improving time=1.4369999999762513s\n",
      "----> non improving time=1.4839999999967404s\n",
      "----> non improving time=1.5149999999557622s\n",
      "----> non improving time=1.6089999999967404s\n",
      "----> non improving time=1.6399999999557622s\n",
      "----> non improving time=1.6719999999622814s\n",
      "----> non improving time=1.702999999979511s\n",
      "----> non improving time=1.7339999999967404s\n",
      "----> non improving time=1.7649999999557622s\n",
      "----> non improving time=1.8119999999762513s\n",
      "----> non improving time=1.8439999999827705s\n",
      "----> non improving time=1.8899999999557622s\n",
      "----> non improving time=1.9219999999622814s\n",
      "----> non improving time=1.9689999999827705s\n",
      "----> non improving time=2.0s\n",
      "----> non improving time=2.030999999959022s\n",
      "----> non improving time=2.077999999979511s\n",
      "----> non improving time=2.125s\n",
      "----> non improving time=2.155999999959022s\n",
      "----> non improving time=2.202999999979511s\n",
      "----> non improving time=2.25s\n",
      "----> non improving time=2.3119999999762513s\n",
      "----> non improving time=2.3589999999967404s\n",
      "----> non improving time=2.405999999959022s\n",
      "----> non improving time=2.4689999999827705s\n",
      "----> non improving time=2.5469999999622814s\n",
      "----> non improving time=2.6089999999967404s\n",
      "----> non improving time=2.6719999999622814s\n",
      "----> non improving time=2.7339999999967404s\n",
      "----> non improving time=2.8119999999762513s\n",
      "----> non improving time=2.905999999959022s\n",
      "----> non improving time=2.9839999999967404s\n",
      "----> non improving time=3.0619999999762513s\n",
      "----> non improving time=3.155999999959022s\n",
      "----> non improving time=3.264999999955762s\n",
      "----> non improving time=3.3589999999967404s\n",
      "----> non improving time=3.4689999999827705s\n",
      "----> non improving time=3.6089999999967404s\n",
      "----> non improving time=3.7189999999827705s\n",
      "----> non improving time=3.827999999979511s\n",
      "----> non improving time=3.9689999999827705s\n",
      "!! aborting cplex, elapsed=4.0939999999827705 >= max_no_improve: 4\n",
      "!! aborting cplex, elapsed=4.186999999976251 >= max_no_improve: 4\n"
     ]
    }
   ],
   "source": [
    "large_hearts = build_hearts(12)\n",
    "#large_hearts.add_progress_listener(TextProgressListener(clock='gap'))\n",
    "# maximum non-improving time is 4 seconds.\n",
    "large_hearts.add_progress_listener(AutomaticAborter(max_no_improve_time=4))\n",
    "# again use clean_before_solve to ensure deterministic run of this cell.\n",
    "large_hearts.solve(clean_before_solve=True, log_output=False);"
   ]
  },
  {
   "cell_type": "markdown",
   "metadata": {},
   "source": [
    "Çözüm durdurulmuş olsa da, en son çözümü döndürdü. Şimdi sonuca bakalım"
   ]
  },
  {
   "cell_type": "code",
   "execution_count": 37,
   "metadata": {},
   "outputs": [
    {
     "name": "stdout",
     "output_type": "stream",
     "text": [
      "* solution has objective 24.0\n",
      "* solve status is 'aborted'\n"
     ]
    }
   ],
   "source": [
    "large_s = large_hearts.solution\n",
    "print('* solution has objective {0}'.format(large_s.objective_value))\n",
    "print(\"* solve status is '{}'\".format(large_hearts.solve_details.status))"
   ]
  },
  {
   "cell_type": "markdown",
   "metadata": {},
   "source": [
    "Son olarak GAP iyileştirmelerini hangi sıklıkla yaptığını yazdıran bir fonksiyonla bu bölümü bitirelim"
   ]
  },
  {
   "cell_type": "code",
   "execution_count": 38,
   "metadata": {},
   "outputs": [],
   "source": [
    "class MipGapPrinter(ProgressListener):\n",
    "  \n",
    "    def __init__(self):\n",
    "        ProgressListener.__init__(self, ProgressClock.Gap)\n",
    "    \n",
    "    def notify_progress(self, pdata):\n",
    "        gap = pdata.mip_gap\n",
    "        ms_time = 1000* pdata.time\n",
    "        print('-- new gap: {0:.1%}, time: {1:.0f} ms'.format(gap, ms_time))"
   ]
  },
  {
   "cell_type": "code",
   "execution_count": 42,
   "metadata": {},
   "outputs": [
    {
     "name": "stdout",
     "output_type": "stream",
     "text": [
      "-- new gap: 71.4%, time: 0 ms\n",
      "-- new gap: 65.9%, time: 0 ms\n",
      "-- new gap: 62.0%, time: 16 ms\n",
      "-- new gap: 60.6%, time: 16 ms\n",
      "-- new gap: 59.5%, time: 32 ms\n",
      "-- new gap: 58.6%, time: 32 ms\n",
      "-- new gap: 57.8%, time: 47 ms\n",
      "-- new gap: 57.1%, time: 63 ms\n",
      "-- new gap: 56.2%, time: 78 ms\n",
      "-- new gap: 55.4%, time: 78 ms\n"
     ]
    }
   ],
   "source": [
    "m8 = build_hearts(8)\n",
    "m8.add_progress_listener(MipGapPrinter())\n",
    "m8.solve(clean_before_solve=True);"
   ]
  },
  {
   "cell_type": "markdown",
   "metadata": {},
   "source": [
    "Şimdi iki sorguyu birleştirelim ve GAP görelim hem de süre ile sınırlayalım."
   ]
  },
  {
   "cell_type": "code",
   "execution_count": 69,
   "metadata": {},
   "outputs": [],
   "source": [
    "from docplex.mp.progress import ProgressListener\n",
    "\n",
    "class AutomaticAborter2(ProgressListener):\n",
    "    \"\"\" a simple implementation of an automatic search stopper.\n",
    "    \"\"\"\n",
    "    def __init__(self, max_no_improve_time=10.):\n",
    "        super(AutomaticAborter2, self).__init__(ProgressClock.All)\n",
    "        self.last_obj = None\n",
    "        self.last_obj_time = None\n",
    "        self.max_no_improve_time = max_no_improve_time\n",
    "        \n",
    "    def notify_start(self):\n",
    "        super(AutomaticAborter2, self).notify_start()\n",
    "        self.last_obj = None\n",
    "        self.last_obj_time = None    \n",
    "        \n",
    "    def is_improving(self, new_obj, eps=1e-4):\n",
    "        last_obj = self.last_obj\n",
    "        return last_obj is None or (abs(new_obj- last_obj) >= eps)\n",
    "            \n",
    "    def notify_progress(self, pdata):\n",
    "        super(AutomaticAborter2, self).notify_progress(pdata)\n",
    "        gap = pdata.mip_gap\n",
    "        ms_time = 1000* pdata.time\n",
    "        print('-- new gap: {0:.1%}, time: {1:.0f} ms'.format(gap, ms_time))\n",
    "        if pdata.has_incumbent and self.is_improving(pdata.current_objective):\n",
    "            \n",
    "            self.last_obj = pdata.current_objective\n",
    "            self.last_obj_time = pdata.time\n",
    "            print('----> #new objective={0}, time={1}s'.format(self.last_obj, self.last_obj_time))\n",
    "        else:\n",
    "            # a non improving move\n",
    "            last_obj_time = self.last_obj_time\n",
    "            this_time = pdata.time\n",
    "            if last_obj_time is not None:\n",
    "                elapsed = (this_time - last_obj_time)\n",
    "                if elapsed >= self.max_no_improve_time:\n",
    "                    print('!! aborting cplex, elapsed={0} >= max_no_improve: {1}'.format(elapsed,\n",
    "                                                                             self.max_no_improve_time))\n",
    "                    self.abort()\n",
    "                else:\n",
    "                    print('----> non improving time={0}s'.format(elapsed))"
   ]
  },
  {
   "cell_type": "code",
   "execution_count": 73,
   "metadata": {},
   "outputs": [
    {
     "name": "stdout",
     "output_type": "stream",
     "text": [
      "-- new gap: 126.1%, time: 15 ms\n",
      "----> #new objective=23.0, time=0.014999999955762178s\n",
      "-- new gap: 126.1%, time: 15 ms\n",
      "----> non improving time=0.0s\n",
      "-- new gap: 126.1%, time: 31 ms\n",
      "----> non improving time=0.01600000000325963s\n",
      "-- new gap: 121.6%, time: 31 ms\n",
      "----> non improving time=0.01600000000325963s\n",
      "-- new gap: 121.6%, time: 47 ms\n",
      "----> non improving time=0.03200000000651926s\n",
      "-- new gap: 117.9%, time: 47 ms\n",
      "----> non improving time=0.03200000000651926s\n",
      "-- new gap: 117.9%, time: 62 ms\n",
      "----> non improving time=0.0470000000204891s\n",
      "-- new gap: 116.9%, time: 62 ms\n",
      "----> non improving time=0.0470000000204891s\n",
      "-- new gap: 116.9%, time: 78 ms\n",
      "----> non improving time=0.06300000002374873s\n",
      "-- new gap: 116.4%, time: 94 ms\n",
      "----> non improving time=0.07900000002700835s\n",
      "-- new gap: 116.4%, time: 109 ms\n",
      "----> non improving time=0.0940000000409782s\n",
      "-- new gap: 115.6%, time: 109 ms\n",
      "----> non improving time=0.0940000000409782s\n",
      "-- new gap: 115.6%, time: 125 ms\n",
      "----> non improving time=0.11000000004423782s\n",
      "-- new gap: 114.3%, time: 125 ms\n",
      "----> non improving time=0.11000000004423782s\n",
      "-- new gap: 114.3%, time: 140 ms\n",
      "----> non improving time=0.125s\n",
      "-- new gap: 113.4%, time: 140 ms\n",
      "----> non improving time=0.125s\n",
      "-- new gap: 113.4%, time: 156 ms\n",
      "----> non improving time=0.14100000000325963s\n",
      "-- new gap: 112.8%, time: 156 ms\n",
      "----> non improving time=0.14100000000325963s\n",
      "-- new gap: 112.8%, time: 187 ms\n",
      "----> non improving time=0.1720000000204891s\n",
      "-- new gap: 111.6%, time: 187 ms\n",
      "----> non improving time=0.1720000000204891s\n",
      "-- new gap: 111.6%, time: 219 ms\n",
      "----> non improving time=0.20400000002700835s\n",
      "-- new gap: 110.7%, time: 219 ms\n",
      "----> non improving time=0.20400000002700835s\n",
      "-- new gap: 110.7%, time: 250 ms\n",
      "----> non improving time=0.23500000004423782s\n",
      "-- new gap: 109.5%, time: 250 ms\n",
      "----> non improving time=0.23500000004423782s\n",
      "-- new gap: 109.5%, time: 281 ms\n",
      "----> non improving time=0.26600000000325963s\n",
      "-- new gap: 109.0%, time: 281 ms\n",
      "----> non improving time=0.26600000000325963s\n",
      "-- new gap: 80.6%, time: 312 ms\n",
      "----> #new objective=24.0, time=0.3119999999762513s\n",
      "-- new gap: 80.6%, time: 312 ms\n",
      "----> non improving time=0.0s\n",
      "-- new gap: 80.6%, time: 375 ms\n",
      "----> non improving time=0.06300000002374873s\n",
      "-- new gap: 80.6%, time: 375 ms\n",
      "----> non improving time=0.06300000002374873s\n",
      "-- new gap: 70.8%, time: 453 ms\n",
      "----> non improving time=0.14100000000325963s\n",
      "-- new gap: 70.8%, time: 453 ms\n",
      "----> non improving time=0.14100000000325963s\n",
      "-- new gap: 70.8%, time: 453 ms\n",
      "----> non improving time=0.14100000000325963s\n",
      "-- new gap: 70.8%, time: 469 ms\n",
      "----> non improving time=0.15700000000651926s\n",
      "-- new gap: 70.8%, time: 469 ms\n",
      "----> non improving time=0.15700000000651926s\n",
      "-- new gap: 70.8%, time: 484 ms\n",
      "----> non improving time=0.1720000000204891s\n",
      "-- new gap: 70.8%, time: 484 ms\n",
      "----> non improving time=0.1720000000204891s\n",
      "-- new gap: 70.8%, time: 484 ms\n",
      "----> non improving time=0.1720000000204891s\n",
      "-- new gap: 70.8%, time: 500 ms\n",
      "----> non improving time=0.18800000002374873s\n",
      "-- new gap: 70.8%, time: 500 ms\n",
      "----> non improving time=0.18800000002374873s\n",
      "-- new gap: 70.8%, time: 515 ms\n",
      "----> non improving time=0.2029999999795109s\n",
      "-- new gap: 70.8%, time: 531 ms\n",
      "----> non improving time=0.21899999998277053s\n",
      "-- new gap: 70.8%, time: 547 ms\n",
      "----> non improving time=0.23499999998603016s\n",
      "-- new gap: 70.8%, time: 562 ms\n",
      "----> non improving time=0.25s\n",
      "-- new gap: 70.8%, time: 578 ms\n",
      "----> non improving time=0.26600000000325963s\n",
      "-- new gap: 70.8%, time: 609 ms\n",
      "----> non improving time=0.2970000000204891s\n",
      "-- new gap: 61.6%, time: 640 ms\n",
      "----> non improving time=0.3279999999795109s\n",
      "-- new gap: 61.6%, time: 672 ms\n",
      "----> non improving time=0.35999999998603016s\n",
      "-- new gap: 59.7%, time: 703 ms\n",
      "----> non improving time=0.39100000000325963s\n",
      "-- new gap: 58.3%, time: 734 ms\n",
      "----> non improving time=0.4220000000204891s\n",
      "-- new gap: 56.9%, time: 765 ms\n",
      "----> non improving time=0.4529999999795109s\n",
      "-- new gap: 56.2%, time: 797 ms\n",
      "----> non improving time=0.48499999998603016s\n",
      "-- new gap: 55.5%, time: 859 ms\n",
      "----> non improving time=0.5470000000204891s\n",
      "-- new gap: 54.7%, time: 922 ms\n",
      "----> non improving time=0.6099999999860302s\n",
      "-- new gap: 53.9%, time: 1828 ms\n",
      "----> non improving time=1.5160000000032596s\n",
      "-- new gap: 53.9%, time: 1844 ms\n",
      "----> non improving time=1.5320000000065193s\n",
      "-- new gap: 53.9%, time: 1906 ms\n",
      "----> non improving time=1.5939999999827705s\n",
      "-- new gap: 53.9%, time: 1953 ms\n",
      "----> non improving time=1.6410000000032596s\n",
      "-- new gap: 53.9%, time: 2078 ms\n",
      "----> non improving time=1.7660000000032596s\n",
      "-- new gap: 53.9%, time: 2125 ms\n",
      "----> non improving time=1.8130000000237487s\n",
      "-- new gap: 53.9%, time: 2156 ms\n",
      "----> non improving time=1.8439999999827705s\n",
      "-- new gap: 53.9%, time: 2203 ms\n",
      "----> non improving time=1.8910000000032596s\n",
      "-- new gap: 53.9%, time: 2234 ms\n",
      "----> non improving time=1.922000000020489s\n",
      "-- new gap: 53.9%, time: 2281 ms\n",
      "----> non improving time=1.9689999999827705s\n",
      "-- new gap: 53.9%, time: 2328 ms\n",
      "----> non improving time=2.0160000000032596s\n",
      "-- new gap: 53.9%, time: 2375 ms\n",
      "----> non improving time=2.0630000000237487s\n",
      "-- new gap: 53.9%, time: 2422 ms\n",
      "----> non improving time=2.10999999998603s\n",
      "-- new gap: 53.9%, time: 2469 ms\n",
      "----> non improving time=2.1570000000065193s\n",
      "-- new gap: 53.9%, time: 2531 ms\n",
      "----> non improving time=2.2189999999827705s\n",
      "-- new gap: 53.9%, time: 2578 ms\n",
      "----> non improving time=2.2660000000032596s\n",
      "-- new gap: 53.9%, time: 2625 ms\n",
      "----> non improving time=2.3130000000237487s\n",
      "-- new gap: 53.9%, time: 2672 ms\n",
      "----> non improving time=2.35999999998603s\n",
      "-- new gap: 53.9%, time: 2734 ms\n",
      "----> non improving time=2.422000000020489s\n",
      "-- new gap: 53.9%, time: 2781 ms\n",
      "----> non improving time=2.4689999999827705s\n",
      "-- new gap: 52.8%, time: 2844 ms\n",
      "----> non improving time=2.5320000000065193s\n",
      "-- new gap: 52.8%, time: 2906 ms\n",
      "----> non improving time=2.5939999999827705s\n",
      "-- new gap: 52.1%, time: 2969 ms\n",
      "----> non improving time=2.6570000000065193s\n",
      "-- new gap: 52.1%, time: 3015 ms\n",
      "----> non improving time=2.702999999979511s\n",
      "-- new gap: 51.6%, time: 3094 ms\n",
      "----> non improving time=2.7820000000065193s\n",
      "-- new gap: 51.0%, time: 3156 ms\n",
      "----> non improving time=2.8439999999827705s\n",
      "-- new gap: 50.5%, time: 3219 ms\n",
      "----> non improving time=2.9070000000065193s\n",
      "-- new gap: 50.0%, time: 3297 ms\n",
      "----> non improving time=2.98499999998603s\n",
      "-- new gap: 50.0%, time: 3359 ms\n",
      "----> non improving time=3.047000000020489s\n",
      "-- new gap: 50.0%, time: 3422 ms\n",
      "----> non improving time=3.10999999998603s\n",
      "-- new gap: 49.0%, time: 3500 ms\n",
      "----> non improving time=3.1880000000237487s\n",
      "-- new gap: 48.5%, time: 3594 ms\n",
      "----> non improving time=3.2820000000065193s\n",
      "-- new gap: 47.9%, time: 3719 ms\n",
      "----> non improving time=3.4070000000065193s\n",
      "-- new gap: 47.9%, time: 3906 ms\n",
      "----> non improving time=3.5939999999827705s\n",
      "-- new gap: 46.9%, time: 4031 ms\n",
      "----> non improving time=3.7189999999827705s\n",
      "-- new gap: 46.2%, time: 4140 ms\n",
      "----> non improving time=3.827999999979511s\n",
      "-- new gap: 45.8%, time: 4250 ms\n",
      "----> non improving time=3.9380000000237487s\n",
      "-- new gap: 45.8%, time: 4375 ms\n",
      "----> non improving time=4.063000000023749s\n",
      "-- new gap: 45.8%, time: 4500 ms\n",
      "----> non improving time=4.188000000023749s\n",
      "-- new gap: 45.1%, time: 4625 ms\n",
      "----> non improving time=4.313000000023749s\n",
      "-- new gap: 44.4%, time: 4781 ms\n",
      "----> non improving time=4.4689999999827705s\n",
      "-- new gap: 43.7%, time: 4937 ms\n",
      "----> non improving time=4.625s\n",
      "-- new gap: 43.7%, time: 5109 ms\n",
      "----> non improving time=4.797000000020489s\n",
      "-- new gap: 43.7%, time: 5281 ms\n",
      "----> non improving time=4.9689999999827705s\n",
      "-- new gap: 42.7%, time: 5453 ms\n",
      "----> non improving time=5.14100000000326s\n",
      "-- new gap: 42.1%, time: 5719 ms\n",
      "----> non improving time=5.407000000006519s\n",
      "-- new gap: 41.7%, time: 5984 ms\n",
      "----> non improving time=5.672000000020489s\n",
      "-- new gap: 40.3%, time: 7390 ms\n",
      "----> non improving time=7.077999999979511s\n",
      "-- new gap: 39.6%, time: 7640 ms\n",
      "----> non improving time=7.327999999979511s\n",
      "-- new gap: 39.6%, time: 7906 ms\n",
      "----> non improving time=7.5939999999827705s\n",
      "-- new gap: 39.6%, time: 8172 ms\n",
      "----> non improving time=7.85999999998603s\n",
      "-- new gap: 38.9%, time: 8422 ms\n",
      "----> non improving time=8.10999999998603s\n",
      "-- new gap: 38.2%, time: 8672 ms\n",
      "----> non improving time=8.35999999998603s\n"
     ]
    },
    {
     "name": "stdout",
     "output_type": "stream",
     "text": [
      "-- new gap: 37.5%, time: 8922 ms\n",
      "----> non improving time=8.60999999998603s\n",
      "-- new gap: 37.5%, time: 9187 ms\n",
      "----> non improving time=8.875s\n",
      "-- new gap: 37.5%, time: 10844 ms\n",
      "----> non improving time=10.53200000000652s\n",
      "-- new gap: 37.5%, time: 10859 ms\n",
      "----> non improving time=10.547000000020489s\n",
      "-- new gap: 37.5%, time: 10922 ms\n",
      "----> non improving time=10.60999999998603s\n",
      "-- new gap: 37.5%, time: 10937 ms\n",
      "----> non improving time=10.625s\n",
      "-- new gap: 37.5%, time: 11000 ms\n",
      "----> non improving time=10.688000000023749s\n",
      "-- new gap: 37.5%, time: 11094 ms\n",
      "----> non improving time=10.78200000000652s\n",
      "-- new gap: 37.5%, time: 11203 ms\n",
      "----> non improving time=10.89100000000326s\n",
      "-- new gap: 37.5%, time: 11265 ms\n",
      "----> non improving time=10.952999999979511s\n",
      "-- new gap: 37.5%, time: 11328 ms\n",
      "----> non improving time=11.01600000000326s\n",
      "-- new gap: 37.5%, time: 11375 ms\n",
      "----> non improving time=11.063000000023749s\n",
      "-- new gap: 37.5%, time: 11453 ms\n",
      "----> non improving time=11.14100000000326s\n",
      "-- new gap: 37.5%, time: 11515 ms\n",
      "----> non improving time=11.202999999979511s\n",
      "-- new gap: 37.5%, time: 11578 ms\n",
      "----> non improving time=11.26600000000326s\n",
      "-- new gap: 37.5%, time: 11640 ms\n",
      "----> non improving time=11.327999999979511s\n",
      "-- new gap: 37.5%, time: 11719 ms\n",
      "----> non improving time=11.40700000000652s\n",
      "-- new gap: 37.5%, time: 11765 ms\n",
      "----> non improving time=11.452999999979511s\n",
      "-- new gap: 37.5%, time: 11828 ms\n",
      "----> non improving time=11.51600000000326s\n",
      "-- new gap: 37.5%, time: 11890 ms\n",
      "----> non improving time=11.577999999979511s\n",
      "-- new gap: 37.5%, time: 11953 ms\n",
      "----> non improving time=11.64100000000326s\n",
      "-- new gap: 37.5%, time: 12015 ms\n",
      "----> non improving time=11.702999999979511s\n",
      "-- new gap: 37.5%, time: 12078 ms\n",
      "----> non improving time=11.76600000000326s\n",
      "-- new gap: 37.5%, time: 12156 ms\n",
      "----> non improving time=11.84399999998277s\n",
      "-- new gap: 37.5%, time: 12234 ms\n",
      "----> non improving time=11.922000000020489s\n",
      "-- new gap: 37.5%, time: 12312 ms\n",
      "----> non improving time=12.0s\n",
      "-- new gap: 37.5%, time: 12390 ms\n",
      "----> non improving time=12.077999999979511s\n",
      "-- new gap: 37.5%, time: 12484 ms\n",
      "----> non improving time=12.172000000020489s\n",
      "-- new gap: 37.5%, time: 12562 ms\n",
      "----> non improving time=12.25s\n",
      "-- new gap: 37.5%, time: 12656 ms\n",
      "----> non improving time=12.34399999998277s\n",
      "-- new gap: 37.5%, time: 12750 ms\n",
      "----> non improving time=12.438000000023749s\n",
      "-- new gap: 37.5%, time: 12844 ms\n",
      "----> non improving time=12.53200000000652s\n",
      "-- new gap: 37.5%, time: 12953 ms\n",
      "----> non improving time=12.64100000000326s\n",
      "-- new gap: 37.5%, time: 13047 ms\n",
      "----> non improving time=12.73499999998603s\n",
      "-- new gap: 37.5%, time: 13172 ms\n",
      "----> non improving time=12.85999999998603s\n",
      "-- new gap: 37.5%, time: 13312 ms\n",
      "----> non improving time=13.0s\n",
      "-- new gap: 37.5%, time: 13422 ms\n",
      "----> non improving time=13.10999999998603s\n",
      "-- new gap: 37.5%, time: 13578 ms\n",
      "----> non improving time=13.26600000000326s\n",
      "-- new gap: 37.5%, time: 13719 ms\n",
      "----> non improving time=13.40700000000652s\n",
      "-- new gap: 37.5%, time: 13859 ms\n",
      "----> non improving time=13.547000000020489s\n",
      "-- new gap: 37.5%, time: 14015 ms\n",
      "----> non improving time=13.702999999979511s\n",
      "-- new gap: 37.5%, time: 14187 ms\n",
      "----> non improving time=13.875s\n",
      "-- new gap: 37.5%, time: 14359 ms\n",
      "----> non improving time=14.047000000020489s\n",
      "-- new gap: 37.5%, time: 14562 ms\n",
      "----> non improving time=14.25s\n",
      "-- new gap: 37.5%, time: 14750 ms\n",
      "----> non improving time=14.438000000023749s\n",
      "-- new gap: 37.5%, time: 14953 ms\n",
      "----> non improving time=14.64100000000326s\n",
      "-- new gap: 37.5%, time: 15140 ms\n",
      "----> non improving time=14.827999999979511s\n",
      "-- new gap: 37.5%, time: 15390 ms\n",
      "----> non improving time=15.077999999979511s\n",
      "-- new gap: 37.5%, time: 15625 ms\n",
      "----> non improving time=15.313000000023749s\n",
      "-- new gap: 37.5%, time: 15875 ms\n",
      "----> non improving time=15.563000000023749s\n",
      "-- new gap: 37.5%, time: 16140 ms\n",
      "----> non improving time=15.827999999979511s\n",
      "-- new gap: 37.5%, time: 16437 ms\n",
      "----> non improving time=16.125s\n",
      "-- new gap: 37.5%, time: 16703 ms\n",
      "----> non improving time=16.39100000000326s\n",
      "-- new gap: 37.5%, time: 16984 ms\n",
      "----> non improving time=16.67200000002049s\n",
      "-- new gap: 37.5%, time: 17234 ms\n",
      "----> non improving time=16.92200000002049s\n",
      "-- new gap: 37.5%, time: 17531 ms\n",
      "----> non improving time=17.21899999998277s\n",
      "-- new gap: 37.2%, time: 17797 ms\n",
      "----> non improving time=17.48499999998603s\n",
      "-- new gap: 36.5%, time: 18094 ms\n",
      "----> non improving time=17.78200000000652s\n",
      "-- new gap: 36.1%, time: 18375 ms\n",
      "----> non improving time=18.06300000002375s\n",
      "-- new gap: 35.9%, time: 18656 ms\n",
      "----> non improving time=18.34399999998277s\n",
      "-- new gap: 35.4%, time: 18906 ms\n",
      "----> non improving time=18.59399999998277s\n",
      "-- new gap: 35.4%, time: 19187 ms\n",
      "----> non improving time=18.875s\n",
      "-- new gap: 35.4%, time: 19484 ms\n",
      "----> non improving time=19.17200000002049s\n",
      "-- new gap: 35.2%, time: 19765 ms\n",
      "----> non improving time=19.45299999997951s\n",
      "-- new gap: 34.7%, time: 20094 ms\n",
      "----> non improving time=19.78200000000652s\n",
      "-- new gap: 34.5%, time: 20453 ms\n",
      "----> non improving time=20.14100000000326s\n",
      "-- new gap: 34.3%, time: 20797 ms\n",
      "----> non improving time=20.48499999998603s\n",
      "-- new gap: 33.9%, time: 21140 ms\n",
      "----> non improving time=20.82799999997951s\n",
      "-- new gap: 33.3%, time: 21515 ms\n",
      "----> non improving time=21.20299999997951s\n",
      "-- new gap: 33.3%, time: 21859 ms\n",
      "----> non improving time=21.54700000002049s\n",
      "-- new gap: 33.3%, time: 22250 ms\n",
      "----> non improving time=21.93800000002375s\n",
      "-- new gap: 33.3%, time: 22672 ms\n",
      "----> non improving time=22.35999999998603s\n",
      "-- new gap: 33.3%, time: 23031 ms\n",
      "----> non improving time=22.71899999998277s\n",
      "-- new gap: 33.3%, time: 23406 ms\n",
      "----> non improving time=23.09399999998277s\n",
      "-- new gap: 33.1%, time: 23781 ms\n",
      "----> non improving time=23.46899999998277s\n",
      "-- new gap: 32.6%, time: 24187 ms\n",
      "----> non improving time=23.875s\n",
      "-- new gap: 32.4%, time: 24562 ms\n",
      "----> non improving time=24.25s\n",
      "-- new gap: 32.3%, time: 24937 ms\n",
      "----> non improving time=24.625s\n",
      "-- new gap: 31.9%, time: 25281 ms\n",
      "----> non improving time=24.96899999998277s\n",
      "-- new gap: 31.9%, time: 25640 ms\n",
      "----> non improving time=25.32799999997951s\n",
      "-- new gap: 31.5%, time: 25969 ms\n",
      "----> non improving time=25.65700000000652s\n",
      "-- new gap: 31.2%, time: 26328 ms\n",
      "----> non improving time=26.01600000000326s\n",
      "-- new gap: 31.2%, time: 26734 ms\n",
      "----> non improving time=26.42200000002049s\n",
      "-- new gap: 31.2%, time: 27094 ms\n",
      "----> non improving time=26.78200000000652s\n",
      "-- new gap: 31.2%, time: 27469 ms\n",
      "----> non improving time=27.15700000000652s\n",
      "-- new gap: 31.2%, time: 27812 ms\n",
      "----> non improving time=27.5s\n",
      "-- new gap: 31.0%, time: 28187 ms\n",
      "----> non improving time=27.875s\n",
      "-- new gap: 30.6%, time: 28578 ms\n",
      "----> non improving time=28.26600000000326s\n",
      "-- new gap: 30.6%, time: 28937 ms\n",
      "----> non improving time=28.625s\n",
      "-- new gap: 30.2%, time: 29328 ms\n",
      "----> non improving time=29.01600000000326s\n",
      "-- new gap: 30.2%, time: 29734 ms\n",
      "----> non improving time=29.42200000002049s\n",
      "-- new gap: 30.0%, time: 30078 ms\n",
      "----> non improving time=29.76600000000326s\n",
      "-- new gap: 29.8%, time: 30453 ms\n",
      "!! aborting cplex, elapsed=30.14100000000326 >= max_no_improve: 30\n",
      "-- new gap: 29.6%, time: 30672 ms\n",
      "!! aborting cplex, elapsed=30.35999999998603 >= max_no_improve: 30\n"
     ]
    }
   ],
   "source": [
    "large_hearts = build_hearts(12)\n",
    "large_hearts.add_progress_listener(AutomaticAborter2(max_no_improve_time=30))\n",
    "large_hearts.solve(clean_before_solve=True, log_output=False);"
   ]
  },
  {
   "cell_type": "markdown",
   "metadata": {},
   "source": [
    "### GAP-Zaman grafiğini çizmek için matplotlib kullanma ###\n",
    "\n",
    "Son bölümüzde, GAP'in zaman içindeki evrimini grafiklendirmek için matplotlib kullanacağız. Dinleyicimiz ekrana yazdırmak yerine grafik ile zamansal GAP değişimini çizdirecek. "
   ]
  },
  {
   "cell_type": "code",
   "execution_count": 74,
   "metadata": {},
   "outputs": [],
   "source": [
    "import matplotlib.pyplot as plt\n",
    "%matplotlib inline"
   ]
  },
  {
   "cell_type": "code",
   "execution_count": 78,
   "metadata": {},
   "outputs": [],
   "source": [
    "from docplex.mp.progress import ProgressListener, ProgressClock\n",
    "from IPython import display\n",
    "\n",
    "class MipGapPlotter(ProgressListener):\n",
    "    \n",
    "    def __init__(self):\n",
    "        ProgressListener.__init__(self, ProgressClock.Gap)\n",
    "        plt.ion()\n",
    "        self.fig = plt.figure(figsize=(10,4))\n",
    "        self.ax = self.fig.add_subplot(1,1,1)\n",
    "    \n",
    "    def notify_start(self):\n",
    "        self.times =[]\n",
    "        self.gaps = []\n",
    "        #self.lines, = ax.plot([],[], 'o')\n",
    "        plt.xlabel('time (ms)')\n",
    "        plt.ylabel('gap (%)')\n",
    "        \n",
    "    def notify_progress(self, pdata):\n",
    "        gap = pdata.mip_gap\n",
    "        time = pdata.time\n",
    "        self.times.append(1000* time)\n",
    "        self.gaps.append(100*gap)\n",
    "        plt.plot(self.times, self.gaps, 'go-')\n",
    "        display.display(plt.gcf())\n",
    "        display.clear_output(wait=True)"
   ]
  },
  {
   "cell_type": "code",
   "execution_count": 79,
   "metadata": {},
   "outputs": [
    {
     "data": {
      "image/png": "[encoded data removed]",
      "text/plain": [
       "<Figure size 720x288 with 1 Axes>"
      ]
     },
     "metadata": {
      "needs_background": "light"
     },
     "output_type": "display_data"
    }
   ],
   "source": [
    "m9 = build_hearts(10)\n",
    "m9.add_progress_listener(MipGapPlotter())\n",
    "m9.solve(clean_before_solve=True);"
   ]
  },
  {
   "cell_type": "markdown",
   "metadata": {},
   "source": [
    "## Sonuç ##\n",
    "Bu eğitimimizde, Listeners (Dinleyiciler) ile modellerimizi nasıl takip edebileceğimizi, limit vererek nasıl durdurabileceğimizi, tüm çözümleri nasıl inceleyebileceğimizi gibi bir çok şey öğrendik. Bir sonraki eğitimde görüşmek üzere.\n",
    "\n",
    "__Sabri Suyunu__"
   ]
  }
 ],
 "metadata": {
  "kernelspec": {
   "display_name": "Python 3",
   "language": "python",
   "name": "python3"
  },
  "language_info": {
   "codemirror_mode": {
    "name": "ipython",
    "version": 3
   },
   "file_extension": ".py",
   "mimetype": "text/x-python",
   "name": "python",
   "nbconvert_exporter": "python",
   "pygments_lexer": "ipython3",
   "version": "3.7.3"
  }
 },
 "nbformat": 4,
 "nbformat_minor": 2
}
